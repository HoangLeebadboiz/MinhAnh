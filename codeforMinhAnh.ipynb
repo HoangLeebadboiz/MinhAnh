{
 "cells": [
  {
   "cell_type": "code",
   "execution_count": 898,
   "metadata": {},
   "outputs": [],
   "source": [
    "import numpy as np\n",
    "import pandas as pd\n",
    "import matplotlib.pyplot as plt \n",
    "import statsmodels.api as sm\n",
    "import statistics\n",
    "from statsmodels.tsa.stattools import adfuller\n",
    "from statsmodels.graphics.gofplots import qqplot\n",
    "from statsmodels.graphics.tsaplots import plot_pacf\n",
    "from statsmodels.stats.diagnostic import acorr_ljungbox\n",
    "from scipy.stats import jarque_bera\n",
    "from sklearn.metrics import mean_squared_error, mean_absolute_error\n",
    "from scipy import stats\n",
    "from arch import arch_model\n",
    "from statsmodels.tsa.api import VAR"
   ]
  },
  {
   "cell_type": "code",
   "execution_count": 899,
   "metadata": {},
   "outputs": [],
   "source": [
    "# full_df = pd.read_excel('full_data.xlsx')\n",
    "# full_df"
   ]
  },
  {
   "cell_type": "code",
   "execution_count": 900,
   "metadata": {},
   "outputs": [],
   "source": [
    "# PBK_df = full_df.drop(axis=1, columns=['PP', 'PB'])\n",
    "# PBK_df"
   ]
  },
  {
   "cell_type": "code",
   "execution_count": 901,
   "metadata": {},
   "outputs": [],
   "source": [
    "# PP_df = full_df.drop(axis=1, columns=['PBK', 'PB'])\n",
    "# PP_df"
   ]
  },
  {
   "cell_type": "code",
   "execution_count": 902,
   "metadata": {},
   "outputs": [],
   "source": [
    "# PB_df = full_df.drop(axis=1, columns=['PBK', 'PP'])\n",
    "# PB_df"
   ]
  },
  {
   "cell_type": "code",
   "execution_count": 903,
   "metadata": {},
   "outputs": [
    {
     "data": {
      "text/html": [
       "<div>\n",
       "<style scoped>\n",
       "    .dataframe tbody tr th:only-of-type {\n",
       "        vertical-align: middle;\n",
       "    }\n",
       "\n",
       "    .dataframe tbody tr th {\n",
       "        vertical-align: top;\n",
       "    }\n",
       "\n",
       "    .dataframe thead th {\n",
       "        text-align: right;\n",
       "    }\n",
       "</style>\n",
       "<table border=\"1\" class=\"dataframe\">\n",
       "  <thead>\n",
       "    <tr style=\"text-align: right;\">\n",
       "      <th></th>\n",
       "      <th>Date</th>\n",
       "      <th>PBK</th>\n",
       "    </tr>\n",
       "  </thead>\n",
       "  <tbody>\n",
       "    <tr>\n",
       "      <th>0</th>\n",
       "      <td>2015-01-01</td>\n",
       "      <td>1213.40</td>\n",
       "    </tr>\n",
       "    <tr>\n",
       "      <th>1</th>\n",
       "      <td>2015-01-02</td>\n",
       "      <td>1203.20</td>\n",
       "    </tr>\n",
       "    <tr>\n",
       "      <th>2</th>\n",
       "      <td>2015-01-04</td>\n",
       "      <td>1202.00</td>\n",
       "    </tr>\n",
       "    <tr>\n",
       "      <th>3</th>\n",
       "      <td>2015-01-05</td>\n",
       "      <td>1212.95</td>\n",
       "    </tr>\n",
       "    <tr>\n",
       "      <th>4</th>\n",
       "      <td>2015-01-06</td>\n",
       "      <td>1219.65</td>\n",
       "    </tr>\n",
       "    <tr>\n",
       "      <th>...</th>\n",
       "      <td>...</td>\n",
       "      <td>...</td>\n",
       "    </tr>\n",
       "    <tr>\n",
       "      <th>2483</th>\n",
       "      <td>2022-12-26</td>\n",
       "      <td>1036.00</td>\n",
       "    </tr>\n",
       "    <tr>\n",
       "      <th>2484</th>\n",
       "      <td>2022-12-27</td>\n",
       "      <td>1032.70</td>\n",
       "    </tr>\n",
       "    <tr>\n",
       "      <th>2485</th>\n",
       "      <td>2022-12-28</td>\n",
       "      <td>1019.80</td>\n",
       "    </tr>\n",
       "    <tr>\n",
       "      <th>2486</th>\n",
       "      <td>2022-12-29</td>\n",
       "      <td>1065.00</td>\n",
       "    </tr>\n",
       "    <tr>\n",
       "      <th>2487</th>\n",
       "      <td>2022-12-30</td>\n",
       "      <td>1082.90</td>\n",
       "    </tr>\n",
       "  </tbody>\n",
       "</table>\n",
       "<p>2488 rows × 2 columns</p>\n",
       "</div>"
      ],
      "text/plain": [
       "           Date      PBK\n",
       "0    2015-01-01  1213.40\n",
       "1    2015-01-02  1203.20\n",
       "2    2015-01-04  1202.00\n",
       "3    2015-01-05  1212.95\n",
       "4    2015-01-06  1219.65\n",
       "...         ...      ...\n",
       "2483 2022-12-26  1036.00\n",
       "2484 2022-12-27  1032.70\n",
       "2485 2022-12-28  1019.80\n",
       "2486 2022-12-29  1065.00\n",
       "2487 2022-12-30  1082.90\n",
       "\n",
       "[2488 rows x 2 columns]"
      ]
     },
     "execution_count": 903,
     "metadata": {},
     "output_type": "execute_result"
    }
   ],
   "source": [
    "PBK_df = pd.read_excel(io='Data_manhdu.xlsx', sheet_name='PBK')\n",
    "PBK_df"
   ]
  },
  {
   "cell_type": "code",
   "execution_count": 904,
   "metadata": {},
   "outputs": [
    {
     "data": {
      "text/html": [
       "<div>\n",
       "<style scoped>\n",
       "    .dataframe tbody tr th:only-of-type {\n",
       "        vertical-align: middle;\n",
       "    }\n",
       "\n",
       "    .dataframe tbody tr th {\n",
       "        vertical-align: top;\n",
       "    }\n",
       "\n",
       "    .dataframe thead th {\n",
       "        text-align: right;\n",
       "    }\n",
       "</style>\n",
       "<table border=\"1\" class=\"dataframe\">\n",
       "  <thead>\n",
       "    <tr style=\"text-align: right;\">\n",
       "      <th></th>\n",
       "      <th>Date</th>\n",
       "      <th>PP</th>\n",
       "    </tr>\n",
       "  </thead>\n",
       "  <tbody>\n",
       "    <tr>\n",
       "      <th>0</th>\n",
       "      <td>2015-01-01</td>\n",
       "      <td>796.30</td>\n",
       "    </tr>\n",
       "    <tr>\n",
       "      <th>1</th>\n",
       "      <td>2015-01-02</td>\n",
       "      <td>794.85</td>\n",
       "    </tr>\n",
       "    <tr>\n",
       "      <th>2</th>\n",
       "      <td>2015-01-05</td>\n",
       "      <td>793.20</td>\n",
       "    </tr>\n",
       "    <tr>\n",
       "      <th>3</th>\n",
       "      <td>2015-01-06</td>\n",
       "      <td>800.40</td>\n",
       "    </tr>\n",
       "    <tr>\n",
       "      <th>4</th>\n",
       "      <td>2015-01-07</td>\n",
       "      <td>792.45</td>\n",
       "    </tr>\n",
       "    <tr>\n",
       "      <th>...</th>\n",
       "      <td>...</td>\n",
       "      <td>...</td>\n",
       "    </tr>\n",
       "    <tr>\n",
       "      <th>2319</th>\n",
       "      <td>2022-12-26</td>\n",
       "      <td>1763.00</td>\n",
       "    </tr>\n",
       "    <tr>\n",
       "      <th>2320</th>\n",
       "      <td>2022-12-27</td>\n",
       "      <td>1826.30</td>\n",
       "    </tr>\n",
       "    <tr>\n",
       "      <th>2321</th>\n",
       "      <td>2022-12-28</td>\n",
       "      <td>1785.00</td>\n",
       "    </tr>\n",
       "    <tr>\n",
       "      <th>2322</th>\n",
       "      <td>2022-12-29</td>\n",
       "      <td>1824.10</td>\n",
       "    </tr>\n",
       "    <tr>\n",
       "      <th>2323</th>\n",
       "      <td>2022-12-30</td>\n",
       "      <td>1806.70</td>\n",
       "    </tr>\n",
       "  </tbody>\n",
       "</table>\n",
       "<p>2324 rows × 2 columns</p>\n",
       "</div>"
      ],
      "text/plain": [
       "           Date       PP\n",
       "0    2015-01-01   796.30\n",
       "1    2015-01-02   794.85\n",
       "2    2015-01-05   793.20\n",
       "3    2015-01-06   800.40\n",
       "4    2015-01-07   792.45\n",
       "...         ...      ...\n",
       "2319 2022-12-26  1763.00\n",
       "2320 2022-12-27  1826.30\n",
       "2321 2022-12-28  1785.00\n",
       "2322 2022-12-29  1824.10\n",
       "2323 2022-12-30  1806.70\n",
       "\n",
       "[2324 rows x 2 columns]"
      ]
     },
     "execution_count": 904,
     "metadata": {},
     "output_type": "execute_result"
    }
   ],
   "source": [
    "PP_df = pd.read_excel(io='Data_manhdu.xlsx', sheet_name='PP')\n",
    "PP_df"
   ]
  },
  {
   "cell_type": "code",
   "execution_count": 905,
   "metadata": {},
   "outputs": [
    {
     "data": {
      "text/html": [
       "<div>\n",
       "<style scoped>\n",
       "    .dataframe tbody tr th:only-of-type {\n",
       "        vertical-align: middle;\n",
       "    }\n",
       "\n",
       "    .dataframe tbody tr th {\n",
       "        vertical-align: top;\n",
       "    }\n",
       "\n",
       "    .dataframe thead th {\n",
       "        text-align: right;\n",
       "    }\n",
       "</style>\n",
       "<table border=\"1\" class=\"dataframe\">\n",
       "  <thead>\n",
       "    <tr style=\"text-align: right;\">\n",
       "      <th></th>\n",
       "      <th>Date</th>\n",
       "      <th>PB</th>\n",
       "    </tr>\n",
       "  </thead>\n",
       "  <tbody>\n",
       "    <tr>\n",
       "      <th>0</th>\n",
       "      <td>2015-01-02</td>\n",
       "      <td>15.768</td>\n",
       "    </tr>\n",
       "    <tr>\n",
       "      <th>1</th>\n",
       "      <td>2015-01-05</td>\n",
       "      <td>16.213</td>\n",
       "    </tr>\n",
       "    <tr>\n",
       "      <th>2</th>\n",
       "      <td>2015-01-06</td>\n",
       "      <td>16.637</td>\n",
       "    </tr>\n",
       "    <tr>\n",
       "      <th>3</th>\n",
       "      <td>2015-01-07</td>\n",
       "      <td>16.544</td>\n",
       "    </tr>\n",
       "    <tr>\n",
       "      <th>4</th>\n",
       "      <td>2015-01-08</td>\n",
       "      <td>16.385</td>\n",
       "    </tr>\n",
       "    <tr>\n",
       "      <th>...</th>\n",
       "      <td>...</td>\n",
       "      <td>...</td>\n",
       "    </tr>\n",
       "    <tr>\n",
       "      <th>2046</th>\n",
       "      <td>2022-12-26</td>\n",
       "      <td>24.055</td>\n",
       "    </tr>\n",
       "    <tr>\n",
       "      <th>2047</th>\n",
       "      <td>2022-12-27</td>\n",
       "      <td>24.217</td>\n",
       "    </tr>\n",
       "    <tr>\n",
       "      <th>2048</th>\n",
       "      <td>2022-12-28</td>\n",
       "      <td>23.840</td>\n",
       "    </tr>\n",
       "    <tr>\n",
       "      <th>2049</th>\n",
       "      <td>2022-12-29</td>\n",
       "      <td>24.250</td>\n",
       "    </tr>\n",
       "    <tr>\n",
       "      <th>2050</th>\n",
       "      <td>2022-12-30</td>\n",
       "      <td>24.040</td>\n",
       "    </tr>\n",
       "  </tbody>\n",
       "</table>\n",
       "<p>2051 rows × 2 columns</p>\n",
       "</div>"
      ],
      "text/plain": [
       "           Date      PB\n",
       "0    2015-01-02  15.768\n",
       "1    2015-01-05  16.213\n",
       "2    2015-01-06  16.637\n",
       "3    2015-01-07  16.544\n",
       "4    2015-01-08  16.385\n",
       "...         ...     ...\n",
       "2046 2022-12-26  24.055\n",
       "2047 2022-12-27  24.217\n",
       "2048 2022-12-28  23.840\n",
       "2049 2022-12-29  24.250\n",
       "2050 2022-12-30  24.040\n",
       "\n",
       "[2051 rows x 2 columns]"
      ]
     },
     "execution_count": 905,
     "metadata": {},
     "output_type": "execute_result"
    }
   ],
   "source": [
    "PB_df = pd.read_excel(io='Data_manhdu.xlsx', sheet_name='PB')\n",
    "PB_df"
   ]
  },
  {
   "cell_type": "markdown",
   "metadata": {},
   "source": [
    "## PBK"
   ]
  },
  {
   "cell_type": "markdown",
   "metadata": {},
   "source": [
    "### 1. Data preparation"
   ]
  },
  {
   "cell_type": "code",
   "execution_count": 906,
   "metadata": {},
   "outputs": [
    {
     "data": {
      "text/html": [
       "<div>\n",
       "<style scoped>\n",
       "    .dataframe tbody tr th:only-of-type {\n",
       "        vertical-align: middle;\n",
       "    }\n",
       "\n",
       "    .dataframe tbody tr th {\n",
       "        vertical-align: top;\n",
       "    }\n",
       "\n",
       "    .dataframe thead th {\n",
       "        text-align: right;\n",
       "    }\n",
       "</style>\n",
       "<table border=\"1\" class=\"dataframe\">\n",
       "  <thead>\n",
       "    <tr style=\"text-align: right;\">\n",
       "      <th></th>\n",
       "      <th>PBK</th>\n",
       "    </tr>\n",
       "    <tr>\n",
       "      <th>Date</th>\n",
       "      <th></th>\n",
       "    </tr>\n",
       "  </thead>\n",
       "  <tbody>\n",
       "    <tr>\n",
       "      <th>2015-01-01</th>\n",
       "      <td>1213.40</td>\n",
       "    </tr>\n",
       "    <tr>\n",
       "      <th>2015-01-02</th>\n",
       "      <td>1203.20</td>\n",
       "    </tr>\n",
       "    <tr>\n",
       "      <th>2015-01-04</th>\n",
       "      <td>1202.00</td>\n",
       "    </tr>\n",
       "    <tr>\n",
       "      <th>2015-01-05</th>\n",
       "      <td>1212.95</td>\n",
       "    </tr>\n",
       "    <tr>\n",
       "      <th>2015-01-06</th>\n",
       "      <td>1219.65</td>\n",
       "    </tr>\n",
       "    <tr>\n",
       "      <th>...</th>\n",
       "      <td>...</td>\n",
       "    </tr>\n",
       "    <tr>\n",
       "      <th>2022-12-26</th>\n",
       "      <td>1036.00</td>\n",
       "    </tr>\n",
       "    <tr>\n",
       "      <th>2022-12-27</th>\n",
       "      <td>1032.70</td>\n",
       "    </tr>\n",
       "    <tr>\n",
       "      <th>2022-12-28</th>\n",
       "      <td>1019.80</td>\n",
       "    </tr>\n",
       "    <tr>\n",
       "      <th>2022-12-29</th>\n",
       "      <td>1065.00</td>\n",
       "    </tr>\n",
       "    <tr>\n",
       "      <th>2022-12-30</th>\n",
       "      <td>1082.90</td>\n",
       "    </tr>\n",
       "  </tbody>\n",
       "</table>\n",
       "<p>2488 rows × 1 columns</p>\n",
       "</div>"
      ],
      "text/plain": [
       "                PBK\n",
       "Date               \n",
       "2015-01-01  1213.40\n",
       "2015-01-02  1203.20\n",
       "2015-01-04  1202.00\n",
       "2015-01-05  1212.95\n",
       "2015-01-06  1219.65\n",
       "...             ...\n",
       "2022-12-26  1036.00\n",
       "2022-12-27  1032.70\n",
       "2022-12-28  1019.80\n",
       "2022-12-29  1065.00\n",
       "2022-12-30  1082.90\n",
       "\n",
       "[2488 rows x 1 columns]"
      ]
     },
     "execution_count": 906,
     "metadata": {},
     "output_type": "execute_result"
    }
   ],
   "source": [
    "df_pbk = PBK_df.copy()\n",
    "df_pbk = df_pbk.set_index('Date')\n",
    "df_pbk.index = pd.to_datetime(df_pbk.index)\n",
    "# df = df.to_numpy()\n",
    "df_pbk"
   ]
  },
  {
   "cell_type": "code",
   "execution_count": 907,
   "metadata": {},
   "outputs": [
    {
     "data": {
      "text/plain": [
       "array([1213.4, 1203.2, 1202. , ..., 1019.8, 1065. , 1082.9], dtype=float32)"
      ]
     },
     "execution_count": 907,
     "metadata": {},
     "output_type": "execute_result"
    }
   ],
   "source": [
    "df_data_pbk = PBK_df.copy()\n",
    "df_data_pbk = df_data_pbk.to_numpy()\n",
    "data_pbk = df_data_pbk[:, 1]\n",
    "data_pbk = np.float32(data_pbk)\n",
    "data_pbk"
   ]
  },
  {
   "cell_type": "code",
   "execution_count": 908,
   "metadata": {},
   "outputs": [],
   "source": [
    "r_pbk= np.diff(np.log(data_pbk), n=1, axis=0)"
   ]
  },
  {
   "cell_type": "code",
   "execution_count": 909,
   "metadata": {},
   "outputs": [
    {
     "data": {
      "text/plain": [
       "array([-0.00844145, -0.00099802,  0.00906849, ..., -0.0125699 ,\n",
       "        0.04336834,  0.01666784], dtype=float32)"
      ]
     },
     "execution_count": 909,
     "metadata": {},
     "output_type": "execute_result"
    }
   ],
   "source": [
    "r_pbk"
   ]
  },
  {
   "cell_type": "code",
   "execution_count": 910,
   "metadata": {},
   "outputs": [
    {
     "data": {
      "text/html": [
       "<div>\n",
       "<style scoped>\n",
       "    .dataframe tbody tr th:only-of-type {\n",
       "        vertical-align: middle;\n",
       "    }\n",
       "\n",
       "    .dataframe tbody tr th {\n",
       "        vertical-align: top;\n",
       "    }\n",
       "\n",
       "    .dataframe thead th {\n",
       "        text-align: right;\n",
       "    }\n",
       "</style>\n",
       "<table border=\"1\" class=\"dataframe\">\n",
       "  <thead>\n",
       "    <tr style=\"text-align: right;\">\n",
       "      <th></th>\n",
       "      <th>Date</th>\n",
       "      <th>PBK</th>\n",
       "    </tr>\n",
       "  </thead>\n",
       "  <tbody>\n",
       "    <tr>\n",
       "      <th>1</th>\n",
       "      <td>2015-01-02</td>\n",
       "      <td>1203.20</td>\n",
       "    </tr>\n",
       "    <tr>\n",
       "      <th>2</th>\n",
       "      <td>2015-01-04</td>\n",
       "      <td>1202.00</td>\n",
       "    </tr>\n",
       "    <tr>\n",
       "      <th>3</th>\n",
       "      <td>2015-01-05</td>\n",
       "      <td>1212.95</td>\n",
       "    </tr>\n",
       "    <tr>\n",
       "      <th>4</th>\n",
       "      <td>2015-01-06</td>\n",
       "      <td>1219.65</td>\n",
       "    </tr>\n",
       "    <tr>\n",
       "      <th>5</th>\n",
       "      <td>2015-01-07</td>\n",
       "      <td>1220.65</td>\n",
       "    </tr>\n",
       "    <tr>\n",
       "      <th>...</th>\n",
       "      <td>...</td>\n",
       "      <td>...</td>\n",
       "    </tr>\n",
       "    <tr>\n",
       "      <th>2483</th>\n",
       "      <td>2022-12-26</td>\n",
       "      <td>1036.00</td>\n",
       "    </tr>\n",
       "    <tr>\n",
       "      <th>2484</th>\n",
       "      <td>2022-12-27</td>\n",
       "      <td>1032.70</td>\n",
       "    </tr>\n",
       "    <tr>\n",
       "      <th>2485</th>\n",
       "      <td>2022-12-28</td>\n",
       "      <td>1019.80</td>\n",
       "    </tr>\n",
       "    <tr>\n",
       "      <th>2486</th>\n",
       "      <td>2022-12-29</td>\n",
       "      <td>1065.00</td>\n",
       "    </tr>\n",
       "    <tr>\n",
       "      <th>2487</th>\n",
       "      <td>2022-12-30</td>\n",
       "      <td>1082.90</td>\n",
       "    </tr>\n",
       "  </tbody>\n",
       "</table>\n",
       "<p>2487 rows × 2 columns</p>\n",
       "</div>"
      ],
      "text/plain": [
       "           Date      PBK\n",
       "1    2015-01-02  1203.20\n",
       "2    2015-01-04  1202.00\n",
       "3    2015-01-05  1212.95\n",
       "4    2015-01-06  1219.65\n",
       "5    2015-01-07  1220.65\n",
       "...         ...      ...\n",
       "2483 2022-12-26  1036.00\n",
       "2484 2022-12-27  1032.70\n",
       "2485 2022-12-28  1019.80\n",
       "2486 2022-12-29  1065.00\n",
       "2487 2022-12-30  1082.90\n",
       "\n",
       "[2487 rows x 2 columns]"
      ]
     },
     "execution_count": 910,
     "metadata": {},
     "output_type": "execute_result"
    }
   ],
   "source": [
    "df_r_pbk_temp = PBK_df.copy()\n",
    "df_r_pbk_temp.drop(axis=0, index=[0], inplace=True)\n",
    "df_r_pbk_temp"
   ]
  },
  {
   "cell_type": "code",
   "execution_count": 911,
   "metadata": {},
   "outputs": [
    {
     "data": {
      "text/html": [
       "<div>\n",
       "<style scoped>\n",
       "    .dataframe tbody tr th:only-of-type {\n",
       "        vertical-align: middle;\n",
       "    }\n",
       "\n",
       "    .dataframe tbody tr th {\n",
       "        vertical-align: top;\n",
       "    }\n",
       "\n",
       "    .dataframe thead th {\n",
       "        text-align: right;\n",
       "    }\n",
       "</style>\n",
       "<table border=\"1\" class=\"dataframe\">\n",
       "  <thead>\n",
       "    <tr style=\"text-align: right;\">\n",
       "      <th></th>\n",
       "      <th>Return</th>\n",
       "    </tr>\n",
       "    <tr>\n",
       "      <th>Date</th>\n",
       "      <th></th>\n",
       "    </tr>\n",
       "  </thead>\n",
       "  <tbody>\n",
       "    <tr>\n",
       "      <th>2015-01-02</th>\n",
       "      <td>-0.008441</td>\n",
       "    </tr>\n",
       "    <tr>\n",
       "      <th>2015-01-04</th>\n",
       "      <td>-0.000998</td>\n",
       "    </tr>\n",
       "    <tr>\n",
       "      <th>2015-01-05</th>\n",
       "      <td>0.009068</td>\n",
       "    </tr>\n",
       "    <tr>\n",
       "      <th>2015-01-06</th>\n",
       "      <td>0.005509</td>\n",
       "    </tr>\n",
       "    <tr>\n",
       "      <th>2015-01-07</th>\n",
       "      <td>0.000819</td>\n",
       "    </tr>\n",
       "    <tr>\n",
       "      <th>...</th>\n",
       "      <td>...</td>\n",
       "    </tr>\n",
       "    <tr>\n",
       "      <th>2022-12-26</th>\n",
       "      <td>0.006196</td>\n",
       "    </tr>\n",
       "    <tr>\n",
       "      <th>2022-12-27</th>\n",
       "      <td>-0.003191</td>\n",
       "    </tr>\n",
       "    <tr>\n",
       "      <th>2022-12-28</th>\n",
       "      <td>-0.012570</td>\n",
       "    </tr>\n",
       "    <tr>\n",
       "      <th>2022-12-29</th>\n",
       "      <td>0.043368</td>\n",
       "    </tr>\n",
       "    <tr>\n",
       "      <th>2022-12-30</th>\n",
       "      <td>0.016668</td>\n",
       "    </tr>\n",
       "  </tbody>\n",
       "</table>\n",
       "<p>2487 rows × 1 columns</p>\n",
       "</div>"
      ],
      "text/plain": [
       "              Return\n",
       "Date                \n",
       "2015-01-02 -0.008441\n",
       "2015-01-04 -0.000998\n",
       "2015-01-05  0.009068\n",
       "2015-01-06  0.005509\n",
       "2015-01-07  0.000819\n",
       "...              ...\n",
       "2022-12-26  0.006196\n",
       "2022-12-27 -0.003191\n",
       "2022-12-28 -0.012570\n",
       "2022-12-29  0.043368\n",
       "2022-12-30  0.016668\n",
       "\n",
       "[2487 rows x 1 columns]"
      ]
     },
     "execution_count": 911,
     "metadata": {},
     "output_type": "execute_result"
    }
   ],
   "source": [
    "df_r_pbk_temp['Return'] = r_pbk\n",
    "df_r_pbk_temp.drop(axis=1, columns='PBK', inplace=True)\n",
    "df_r_pbk_temp = df_r_pbk_temp.set_index('Date')\n",
    "df_r_pbk_temp.index = pd.to_datetime(df_r_pbk_temp.index)\n",
    "df_r_pbk_temp"
   ]
  },
  {
   "cell_type": "markdown",
   "metadata": {},
   "source": [
    "### 2. Visualize"
   ]
  },
  {
   "cell_type": "code",
   "execution_count": 912,
   "metadata": {},
   "outputs": [
    {
     "data": {
      "image/png": "[encoded data removed]",
      "text/plain": [
       "<Figure size 1500x800 with 2 Axes>"
      ]
     },
     "metadata": {},
     "output_type": "display_data"
    }
   ],
   "source": [
    "fig, ax= plt.subplots(2,1, figsize=(15,8))\n",
    "ax[0].plot(df_pbk, color='black')\n",
    "ax[0].title.set_text('Giá Bạch Kim')\n",
    "ax[0].set(xlabel='Year', ylabel='Point')\n",
    "ax[0].grid(True)\n",
    "ax[1].plot(df_r_pbk_temp, color='red')\n",
    "ax[1].title.set_text('Tỷ suất sinh lợi của Bạch Kim')\n",
    "ax[1].set(xlabel='Year', ylabel='Returns')\n",
    "ax[1].grid(True)\n",
    "plt.tight_layout()"
   ]
  },
  {
   "cell_type": "markdown",
   "metadata": {},
   "source": [
    "### 3. Descriptive Statistic"
   ]
  },
  {
   "cell_type": "code",
   "execution_count": 913,
   "metadata": {},
   "outputs": [
    {
     "name": "stdout",
     "output_type": "stream",
     "text": [
      "Obs       : 2487\n",
      "Median    : 0.00026273727\n",
      "Mean      : -4.575125e-05\n",
      "Std. Dev  : 0.0151277315\n",
      "Minimum   : -0.12903643\n",
      "Maximum   : 0.099313736\n",
      "Skewness  : -0.3310558080076415\n",
      "Kurtosis  : 9.866806468488578\n",
      "Jarque-Bera test: SignificanceResult(statistic=4931.661194669448, pvalue=0.0)\n"
     ]
    }
   ],
   "source": [
    "print('Obs       :', len(r_pbk))\n",
    "print('Median    :', np.median(r_pbk))\n",
    "print('Mean      :', np.mean(r_pbk))\n",
    "print('Std. Dev  :', np.std(r_pbk, ddof=1))\n",
    "print('Minimum   :', np.min(r_pbk))\n",
    "print('Maximum   :', np.max(r_pbk))\n",
    "print('Skewness  :', stats.skew(r_pbk))\n",
    "print('Kurtosis  :', stats.kurtosis(r_pbk, fisher = False))\n",
    "print('Jarque-Bera test:', stats.jarque_bera(r_pbk))"
   ]
  },
  {
   "cell_type": "code",
   "execution_count": 914,
   "metadata": {},
   "outputs": [
    {
     "name": "stdout",
     "output_type": "stream",
     "text": [
      "ADF Statistic: -18.065182002861924\n",
      "p-value: 2.614306163929337e-30\n",
      "Critical Values: {'1%': -3.4329927491693426, '5%': -2.8627075477802673, '10%': -2.567391531704927}\n"
     ]
    }
   ],
   "source": [
    "adf_ppk = adfuller(r_pbk)\n",
    "print('ADF Statistic:', adf_ppk[0])\n",
    "print('p-value:', adf_ppk[1])\n",
    "print('Critical Values:', adf_ppk[4])"
   ]
  },
  {
   "cell_type": "markdown",
   "metadata": {},
   "source": [
    "### 4. ARCH(1)"
   ]
  },
  {
   "cell_type": "code",
   "execution_count": 915,
   "metadata": {},
   "outputs": [],
   "source": [
    "dist = 'normal'"
   ]
  },
  {
   "cell_type": "code",
   "execution_count": 916,
   "metadata": {},
   "outputs": [],
   "source": [
    "#Chuyển TSSL sang dạng % cho thuận tiện\n",
    "rp_pbk = r_pbk*100"
   ]
  },
  {
   "cell_type": "code",
   "execution_count": 917,
   "metadata": {},
   "outputs": [
    {
     "name": "stdout",
     "output_type": "stream",
     "text": [
      "ARCH(1) model: \n",
      "                       Constant Mean - ARCH Model Results                      \n",
      "==============================================================================\n",
      "Dep. Variable:                      y   R-squared:                       0.000\n",
      "Mean Model:             Constant Mean   Adj. R-squared:                  0.000\n",
      "Vol Model:                       ARCH   Log-Likelihood:               -4516.56\n",
      "Distribution:                  Normal   AIC:                           9039.13\n",
      "Method:            Maximum Likelihood   BIC:                           9056.58\n",
      "                                        No. Observations:                 2487\n",
      "Date:                Fri, Jun 14 2024   Df Residuals:                     2486\n",
      "Time:                        13:44:28   Df Model:                            1\n",
      "                                  Mean Model                                  \n",
      "==============================================================================\n",
      "                  coef    std err          t      P>|t|       95.0% Conf. Int.\n",
      "------------------------------------------------------------------------------\n",
      "mu         -6.8735e-03  2.856e-02     -0.241      0.810 [-6.284e-02,4.910e-02]\n",
      "                             Volatility Model                             \n",
      "==========================================================================\n",
      "                 coef    std err          t      P>|t|    95.0% Conf. Int.\n",
      "--------------------------------------------------------------------------\n",
      "omega          1.9331      0.148     13.030  8.306e-39   [  1.642,  2.224]\n",
      "alpha[1]       0.1600  4.166e-02      3.842  1.222e-04 [7.839e-02,  0.242]\n",
      "==========================================================================\n",
      "\n",
      "Covariance estimator: robust \n",
      "\n",
      "LB Test Result: \n",
      "       lb_stat  lb_pvalue\n",
      "5    8.426885   0.134226\n",
      "10  25.125923   0.005112\n",
      "15  28.955779   0.016297\n",
      "20  36.653943   0.012871\n",
      "\n",
      "JB Test Result: \n",
      " SignificanceResult(statistic=5221.29511090566, pvalue=0.0)\n"
     ]
    }
   ],
   "source": [
    "#Ước lượng mô hình ARCH(1)\n",
    "am0= arch_model(rp_pbk, mean = 'Constant', p=1, o=0, q=0, dist=dist)\n",
    "arch1 = am0.fit(update_freq=5, disp = \"off\")\n",
    "print(\"ARCH(1) model:\", \"\\n\", arch1.summary(), \"\\n\")\n",
    "#Kiểm định phần dư của ARCH(1)\n",
    "arch_stdresid= arch1.resid/arch1.conditional_volatility\n",
    "arch1lb = acorr_ljungbox(arch_stdresid, lags=[5,10,15,20]) \n",
    "print('LB Test Result:','\\n',arch1lb)\n",
    "jb_arch = jarque_bera(arch_stdresid)\n",
    "print('\\nJB Test Result:','\\n',jb_arch)"
   ]
  },
  {
   "cell_type": "code",
   "execution_count": 918,
   "metadata": {},
   "outputs": [
    {
     "data": {
      "text/plain": [
       "ARCH-LM Test\n",
       "H0: Standardized residuals are homoskedastic.\n",
       "ARCH-LM Test\n",
       "H1: Standardized residuals are conditionally heteroskedastic.\n",
       "Statistic: 429.6226\n",
       "P-value: 0.0000\n",
       "Distributed: chi2(27)\n",
       "WaldTestStatistic, id: 0x1716018d5a0"
      ]
     },
     "execution_count": 918,
     "metadata": {},
     "output_type": "execute_result"
    }
   ],
   "source": [
    "# LM test\n",
    "arch1.arch_lm_test(standardized=True)"
   ]
  },
  {
   "cell_type": "markdown",
   "metadata": {},
   "source": [
    "### 5. GARCH(1, 1)"
   ]
  },
  {
   "cell_type": "code",
   "execution_count": 919,
   "metadata": {},
   "outputs": [
    {
     "name": "stdout",
     "output_type": "stream",
     "text": [
      "GARCH(1,1) model: \n",
      "                      Constant Mean - GARCH Model Results                      \n",
      "==============================================================================\n",
      "Dep. Variable:                      y   R-squared:                       0.000\n",
      "Mean Model:             Constant Mean   Adj. R-squared:                  0.000\n",
      "Vol Model:                      GARCH   Log-Likelihood:               -4300.40\n",
      "Distribution:                  Normal   AIC:                           8608.79\n",
      "Method:            Maximum Likelihood   BIC:                           8632.07\n",
      "                                        No. Observations:                 2487\n",
      "Date:                Fri, Jun 14 2024   Df Residuals:                     2486\n",
      "Time:                        13:44:29   Df Model:                            1\n",
      "                                  Mean Model                                 \n",
      "=============================================================================\n",
      "                 coef    std err          t      P>|t|       95.0% Conf. Int.\n",
      "-----------------------------------------------------------------------------\n",
      "mu            -0.0175  2.431e-02     -0.721      0.471 [-6.517e-02,3.010e-02]\n",
      "                               Volatility Model                              \n",
      "=============================================================================\n",
      "                 coef    std err          t      P>|t|       95.0% Conf. Int.\n",
      "-----------------------------------------------------------------------------\n",
      "omega      5.4966e-03  4.172e-03      1.317      0.188 [-2.681e-03,1.367e-02]\n",
      "alpha[1]       0.0273  1.093e-02      2.499  1.246e-02  [5.888e-03,4.872e-02]\n",
      "beta[1]        0.9712  1.116e-02     87.043      0.000      [  0.949,  0.993]\n",
      "=============================================================================\n",
      "\n",
      "Covariance estimator: robust \n",
      "\n",
      "LB Test Result: \n",
      "       lb_stat  lb_pvalue\n",
      "5    5.213726   0.390358\n",
      "10  13.543215   0.194865\n",
      "15  15.821203   0.394033\n",
      "20  19.425627   0.494335\n",
      "\n",
      "JB Test Result: \n",
      " SignificanceResult(statistic=940.5536791136927, pvalue=5.772495639954364e-205)\n"
     ]
    }
   ],
   "source": [
    "#Ước lượng mô hình GARCH(1,1)\n",
    "am1 = arch_model(rp_pbk, mean = 'Constant', vol='GARCH', p=1, o=0, q=1, dist=dist)\n",
    "garch1_1 = am1.fit(update_freq=5, disp = \"off\")\n",
    "print(\"GARCH(1,1) model:\", \"\\n\", garch1_1.summary(), \"\\n\")\n",
    "\n",
    "#Kiểm định phần dư của GARCH(1,1)\n",
    "garch_stdresid= garch1_1.resid/garch1_1.conditional_volatility\n",
    "garch11lb = acorr_ljungbox(garch_stdresid, lags=[5,10,15,20]) \n",
    "print('LB Test Result:','\\n',garch11lb)\n",
    "jb_arch = jarque_bera(garch_stdresid)\n",
    "print('\\nJB Test Result:','\\n',jb_arch)"
   ]
  },
  {
   "cell_type": "markdown",
   "metadata": {},
   "source": [
    "### 6. GJR-GARCH"
   ]
  },
  {
   "cell_type": "code",
   "execution_count": 920,
   "metadata": {},
   "outputs": [
    {
     "name": "stdout",
     "output_type": "stream",
     "text": [
      "TGARCH(1,1) model: \n",
      "                    Constant Mean - GJR-GARCH Model Results                    \n",
      "==============================================================================\n",
      "Dep. Variable:                      y   R-squared:                       0.000\n",
      "Mean Model:             Constant Mean   Adj. R-squared:                  0.000\n",
      "Vol Model:                  GJR-GARCH   Log-Likelihood:               -4296.69\n",
      "Distribution:                  Normal   AIC:                           8603.39\n",
      "Method:            Maximum Likelihood   BIC:                           8632.48\n",
      "                                        No. Observations:                 2487\n",
      "Date:                Fri, Jun 14 2024   Df Residuals:                     2486\n",
      "Time:                        13:44:29   Df Model:                            1\n",
      "                                  Mean Model                                 \n",
      "=============================================================================\n",
      "                 coef    std err          t      P>|t|       95.0% Conf. Int.\n",
      "-----------------------------------------------------------------------------\n",
      "mu            -0.0262  2.465e-02     -1.063      0.288 [-7.453e-02,2.212e-02]\n",
      "                               Volatility Model                              \n",
      "=============================================================================\n",
      "                 coef    std err          t      P>|t|       95.0% Conf. Int.\n",
      "-----------------------------------------------------------------------------\n",
      "omega      4.1032e-03  3.471e-03      1.182      0.237 [-2.701e-03,1.091e-02]\n",
      "alpha[1]       0.0150  8.622e-03      1.735  8.266e-02 [-1.936e-03,3.186e-02]\n",
      "gamma[1]       0.0175  9.948e-03      1.758  7.883e-02 [-2.014e-03,3.698e-02]\n",
      "beta[1]        0.9752  1.025e-02     95.185      0.000      [  0.955,  0.995]\n",
      "=============================================================================\n",
      "\n",
      "Covariance estimator: robust \n",
      "\n",
      "LB Test Result: \n",
      "       lb_stat  lb_pvalue\n",
      "5    4.810984   0.439381\n",
      "10  12.906551   0.228944\n",
      "15  15.298256   0.430154\n",
      "20  18.469559   0.556506\n",
      "\n",
      "JB Test Result: \n",
      " SignificanceResult(statistic=814.2696994159095, pvalue=1.526094338906902e-177)\n"
     ]
    }
   ],
   "source": [
    "#Ước lượng mô hình TGARCH(1,1)\n",
    "am2 = arch_model(rp_pbk, mean = 'Constant', vol='GARCH', p=1, o=1, q=1, dist=dist)\n",
    "leverage_garch1_1 = am2.fit(update_freq=5, disp = \"off\")\n",
    "print(\"TGARCH(1,1) model:\", \"\\n\", leverage_garch1_1.summary(), \"\\n\")\n",
    "\n",
    "#Kiểm định phần dư của TGARCH(1,1)\n",
    "tgarch_stdresid= leverage_garch1_1.resid/leverage_garch1_1.conditional_volatility\n",
    "tgarch11lb = acorr_ljungbox(tgarch_stdresid, lags=[5,10,15,20]) \n",
    "print('LB Test Result:','\\n',tgarch11lb)\n",
    "jb_arch = jarque_bera(tgarch_stdresid)\n",
    "print('\\nJB Test Result:','\\n',jb_arch)"
   ]
  },
  {
   "cell_type": "markdown",
   "metadata": {},
   "source": [
    "### 7. EGARCH"
   ]
  },
  {
   "cell_type": "code",
   "execution_count": 921,
   "metadata": {},
   "outputs": [
    {
     "name": "stdout",
     "output_type": "stream",
     "text": [
      "EGARCH(1,1) model: \n",
      "                      Constant Mean - EGARCH Model Results                     \n",
      "==============================================================================\n",
      "Dep. Variable:                      y   R-squared:                       0.000\n",
      "Mean Model:             Constant Mean   Adj. R-squared:                  0.000\n",
      "Vol Model:                     EGARCH   Log-Likelihood:               -4301.29\n",
      "Distribution:                  Normal   AIC:                           8612.59\n",
      "Method:            Maximum Likelihood   BIC:                           8641.68\n",
      "                                        No. Observations:                 2487\n",
      "Date:                Fri, Jun 14 2024   Df Residuals:                     2486\n",
      "Time:                        13:44:29   Df Model:                            1\n",
      "                                  Mean Model                                 \n",
      "=============================================================================\n",
      "                 coef    std err          t      P>|t|       95.0% Conf. Int.\n",
      "-----------------------------------------------------------------------------\n",
      "mu            -0.0339  2.526e-02     -1.341      0.180 [-8.340e-02,1.563e-02]\n",
      "                               Volatility Model                               \n",
      "==============================================================================\n",
      "                 coef    std err          t      P>|t|        95.0% Conf. Int.\n",
      "------------------------------------------------------------------------------\n",
      "omega      7.3422e-03  3.259e-03      2.253  2.426e-02   [9.548e-04,1.373e-02]\n",
      "alpha[1]       0.0689  2.306e-02      2.989  2.800e-03     [2.372e-02,  0.114]\n",
      "gamma[1]      -0.0296  1.079e-02     -2.745  6.053e-03 [-5.076e-02,-8.469e-03]\n",
      "beta[1]        0.9968  2.174e-03    458.499      0.000       [  0.993,  1.001]\n",
      "==============================================================================\n",
      "\n",
      "Covariance estimator: robust \n",
      "\n",
      "LB Test Result: \n",
      "       lb_stat  lb_pvalue\n",
      "5    5.036452   0.411448\n",
      "10  13.489286   0.197587\n",
      "15  15.717328   0.401083\n",
      "20  19.315466   0.501414\n",
      "\n",
      "JB Test Result: \n",
      " SignificanceResult(statistic=732.557657271469, pvalue=8.455238949812295e-160)\n"
     ]
    }
   ],
   "source": [
    "#Ước lượng mô hình EGARCH(1,1)\n",
    "am3 = arch_model(rp_pbk, mean = 'Constant', vol='EGARCH', p=1, o=1, q=1, dist=dist)\n",
    "exponetial_garch1_1 = am3.fit(update_freq=5, disp = \"off\")\n",
    "print(\"EGARCH(1,1) model:\", \"\\n\", exponetial_garch1_1.summary(), \"\\n\")\n",
    "\n",
    "#Kiểm định phần dư của TGARCH(1,1)\n",
    "egarch_stdresid= exponetial_garch1_1.resid/exponetial_garch1_1.conditional_volatility\n",
    "egarch11lb = acorr_ljungbox(egarch_stdresid, lags=[5,10,15,20]) \n",
    "print('LB Test Result:','\\n',egarch11lb)\n",
    "jb_arch = jarque_bera(egarch_stdresid)\n",
    "print('\\nJB Test Result:','\\n',jb_arch)"
   ]
  },
  {
   "cell_type": "markdown",
   "metadata": {},
   "source": [
    "### 8. Evaluate"
   ]
  },
  {
   "cell_type": "code",
   "execution_count": 922,
   "metadata": {},
   "outputs": [],
   "source": [
    "def tic(forecast, actual):\n",
    "    sse = np.sum((forecast - actual)**2)  \n",
    "    starch = np.sum((actual - np.mean(actual))**2)\n",
    "    \n",
    "    return np.sqrt(sse/starch)"
   ]
  },
  {
   "cell_type": "code",
   "execution_count": 923,
   "metadata": {},
   "outputs": [
    {
     "name": "stdout",
     "output_type": "stream",
     "text": [
      "ARCH(1):\n",
      "RMSE: 2.309\n",
      "MAE: 1.870\n",
      "MAPE: 2.633\n",
      "TIC:  4.453\n",
      "\n",
      "RMSE: 3.434\n",
      "MAE: 2.966\n",
      "MAPE: 3.331\n",
      "TIC:  5.036\n",
      "\n",
      "RMSE: 3.235\n",
      "MAE: 2.831\n",
      "MAPE: 3.057\n",
      "TIC:  4.672\n",
      "\n",
      "RMSE: 3.771\n",
      "MAE: 3.229\n",
      "MAPE: 3.604\n",
      "TIC:  5.393\n",
      "\n",
      "Best Forecasting Model (Lowest RMSE): ARCH(1)\n",
      "\n",
      "Best Forecasting Model (Lowest MAE): ARCH(1)\n",
      "\n",
      "Best Forecasting Model (Lowest MAPE): ARCH(1)\n",
      "\n",
      "Best Forecasting Model (Lowest TIC): ARCH(1)\n"
     ]
    }
   ],
   "source": [
    "#Tính các giá trị sai số của mô hình ARCH(1)\n",
    "res= am0.fit(last_obs=1987, update_freq=5, disp='off')\n",
    "forecasts = res.forecast(horizon=1)\n",
    "forecast_vals = forecasts.residual_variance.values[-10:]\n",
    "actual_vals = rp_pbk[-10:]\n",
    "\n",
    "rmse_arch1 = np.sqrt(mean_squared_error(actual_vals, forecast_vals))\n",
    "mae_arch1 = mean_absolute_error(actual_vals, forecast_vals)\n",
    "mape_arch1 = np.mean(np.abs(forecast_vals - actual_vals)/np.abs(actual_vals))\n",
    "\n",
    "tic_arch1 = tic(forecast_vals, actual_vals) \n",
    "\n",
    "print('ARCH(1):')\n",
    "print('RMSE: %0.3f' % rmse_arch1)\n",
    "print('MAE: %0.3f' % mae_arch1) \n",
    "print('MAPE: %0.3f' % mape_arch1)\n",
    "print('TIC: % 0.3f' % tic_arch1)\n",
    "\n",
    "#Tính các giá trị sai số của mô hình GARCH(1,1)\n",
    "res1= am1.fit(last_obs=1987, update_freq=5, disp='off')\n",
    "forecasts1 = res1.forecast(horizon=1)\n",
    "forecast_vals1 = forecasts1.residual_variance.values[-10:]\n",
    "\n",
    "rmse_garch11 = np.sqrt(mean_squared_error(actual_vals, forecast_vals1))\n",
    "mae_garch11 = mean_absolute_error(actual_vals, forecast_vals1)\n",
    "mape_garch11 = np.mean(np.abs(forecast_vals1 - actual_vals)/np.abs(actual_vals))\n",
    "\n",
    "tic_garch11 = tic(forecast_vals1, actual_vals) \n",
    "\n",
    "print('\\nRMSE: %0.3f' % rmse_garch11)\n",
    "print('MAE: %0.3f' % mae_garch11) \n",
    "print('MAPE: %0.3f' % mape_garch11)\n",
    "print('TIC: % 0.3f' % tic_garch11)\n",
    "\n",
    "#Tính các giá trị sai số của mô hình TGARCH(1,1)\n",
    "res2= am2.fit(last_obs=1987, update_freq=5, disp='off')\n",
    "forecasts2 = res2.forecast(horizon=1)\n",
    "forecast_vals2 = forecasts2.residual_variance.values[-10:]\n",
    "\n",
    "rmse_tgarch11 = np.sqrt(mean_squared_error(actual_vals, forecast_vals2))\n",
    "mae_tgarch11 = mean_absolute_error(actual_vals, forecast_vals2)\n",
    "mape_tgarch11 = np.mean(np.abs(forecast_vals2 - actual_vals)/np.abs(actual_vals))\n",
    "\n",
    "tic_tgarch11 = tic(forecast_vals2, actual_vals) \n",
    "\n",
    "print('\\nRMSE: %0.3f' % rmse_tgarch11)\n",
    "print('MAE: %0.3f' % mae_tgarch11) \n",
    "print('MAPE: %0.3f' % mape_tgarch11)\n",
    "print('TIC: % 0.3f' % tic_tgarch11)\n",
    "\n",
    "#Tính các giá trị sai số của mô hình EGARCH(1,1)\n",
    "res3= am3.fit(last_obs=1987, update_freq=5, disp='off')\n",
    "forecasts3 = res3.forecast(horizon=1)\n",
    "forecast_vals3 = forecasts3.residual_variance.values[-10:]\n",
    "\n",
    "rmse_egarch11 = np.sqrt(mean_squared_error(actual_vals, forecast_vals3))\n",
    "mae_egarch11 = mean_absolute_error(actual_vals, forecast_vals3)\n",
    "mape_egarch11 = np.mean(np.abs(forecast_vals3 - actual_vals)/np.abs(actual_vals))\n",
    "\n",
    "tic_egarch11 = tic(forecast_vals3, actual_vals) \n",
    "\n",
    "print('\\nRMSE: %0.3f' % rmse_egarch11)\n",
    "print('MAE: %0.3f' % mae_egarch11) \n",
    "print('MAPE: %0.3f' % mape_egarch11)\n",
    "print('TIC: % 0.3f' % tic_egarch11)\n",
    "\n",
    "RMSE_value=[rmse_arch1, rmse_garch11, rmse_tgarch11, rmse_egarch11]\n",
    "best_RMSEprediction= np.argmin(RMSE_value)\n",
    "print('\\nBest Forecasting Model (Lowest RMSE):', ['ARCH(1)', 'GARCH(1,1)', 'TGARCH(1_1)', 'EGARCH(1_1)'][best_RMSEprediction])\n",
    "\n",
    "MAE_value=[mae_arch1, mae_arch1, mae_tgarch11, mae_egarch11]\n",
    "best_MAEprediction= np.argmin(MAE_value)\n",
    "print('\\nBest Forecasting Model (Lowest MAE):', ['ARCH(1)', 'GARCH(1,1)', 'TGARCH(1_1)', 'EGARCH(1_1)'][best_MAEprediction])\n",
    "\n",
    "MAPE_value=[mape_arch1, mape_garch11, mape_tgarch11, mape_egarch11]\n",
    "best_MAPEprediction= np.argmin(MAPE_value)\n",
    "print('\\nBest Forecasting Model (Lowest MAPE):', ['ARCH(1)', 'GARCH(1,1)', 'TGARCH(1_1)', 'EGARCH(1_1)'][best_MAPEprediction])\n",
    "\n",
    "TIC_value=[tic_arch1, tic_garch11, tic_tgarch11, tic_egarch11]\n",
    "best_TICprediction= np.argmin(TIC_value)\n",
    "print('\\nBest Forecasting Model (Lowest TIC):', ['ARCH(1)', 'GARCH(1,1)', 'TGARCH(1_1)', 'EGARCH(1_1)'][best_TICprediction])\n"
   ]
  },
  {
   "cell_type": "markdown",
   "metadata": {},
   "source": [
    "## PP"
   ]
  },
  {
   "cell_type": "markdown",
   "metadata": {},
   "source": [
    "### 1. Data preparation"
   ]
  },
  {
   "cell_type": "code",
   "execution_count": 924,
   "metadata": {},
   "outputs": [
    {
     "data": {
      "text/html": [
       "<div>\n",
       "<style scoped>\n",
       "    .dataframe tbody tr th:only-of-type {\n",
       "        vertical-align: middle;\n",
       "    }\n",
       "\n",
       "    .dataframe tbody tr th {\n",
       "        vertical-align: top;\n",
       "    }\n",
       "\n",
       "    .dataframe thead th {\n",
       "        text-align: right;\n",
       "    }\n",
       "</style>\n",
       "<table border=\"1\" class=\"dataframe\">\n",
       "  <thead>\n",
       "    <tr style=\"text-align: right;\">\n",
       "      <th></th>\n",
       "      <th>PP</th>\n",
       "    </tr>\n",
       "    <tr>\n",
       "      <th>Date</th>\n",
       "      <th></th>\n",
       "    </tr>\n",
       "  </thead>\n",
       "  <tbody>\n",
       "    <tr>\n",
       "      <th>2015-01-01</th>\n",
       "      <td>796.30</td>\n",
       "    </tr>\n",
       "    <tr>\n",
       "      <th>2015-01-02</th>\n",
       "      <td>794.85</td>\n",
       "    </tr>\n",
       "    <tr>\n",
       "      <th>2015-01-05</th>\n",
       "      <td>793.20</td>\n",
       "    </tr>\n",
       "    <tr>\n",
       "      <th>2015-01-06</th>\n",
       "      <td>800.40</td>\n",
       "    </tr>\n",
       "    <tr>\n",
       "      <th>2015-01-07</th>\n",
       "      <td>792.45</td>\n",
       "    </tr>\n",
       "    <tr>\n",
       "      <th>...</th>\n",
       "      <td>...</td>\n",
       "    </tr>\n",
       "    <tr>\n",
       "      <th>2022-12-26</th>\n",
       "      <td>1763.00</td>\n",
       "    </tr>\n",
       "    <tr>\n",
       "      <th>2022-12-27</th>\n",
       "      <td>1826.30</td>\n",
       "    </tr>\n",
       "    <tr>\n",
       "      <th>2022-12-28</th>\n",
       "      <td>1785.00</td>\n",
       "    </tr>\n",
       "    <tr>\n",
       "      <th>2022-12-29</th>\n",
       "      <td>1824.10</td>\n",
       "    </tr>\n",
       "    <tr>\n",
       "      <th>2022-12-30</th>\n",
       "      <td>1806.70</td>\n",
       "    </tr>\n",
       "  </tbody>\n",
       "</table>\n",
       "<p>2324 rows × 1 columns</p>\n",
       "</div>"
      ],
      "text/plain": [
       "                 PP\n",
       "Date               \n",
       "2015-01-01   796.30\n",
       "2015-01-02   794.85\n",
       "2015-01-05   793.20\n",
       "2015-01-06   800.40\n",
       "2015-01-07   792.45\n",
       "...             ...\n",
       "2022-12-26  1763.00\n",
       "2022-12-27  1826.30\n",
       "2022-12-28  1785.00\n",
       "2022-12-29  1824.10\n",
       "2022-12-30  1806.70\n",
       "\n",
       "[2324 rows x 1 columns]"
      ]
     },
     "execution_count": 924,
     "metadata": {},
     "output_type": "execute_result"
    }
   ],
   "source": [
    "df_pp = PP_df.copy()\n",
    "df_pp = df_pp.set_index('Date')\n",
    "df_pp.index = pd.to_datetime(df_pp.index)\n",
    "# df = df.to_numpy()\n",
    "df_pp"
   ]
  },
  {
   "cell_type": "code",
   "execution_count": 925,
   "metadata": {},
   "outputs": [
    {
     "data": {
      "text/plain": [
       "array([ 796.3 ,  794.85,  793.2 , ..., 1785.  , 1824.1 , 1806.7 ],\n",
       "      dtype=float32)"
      ]
     },
     "execution_count": 925,
     "metadata": {},
     "output_type": "execute_result"
    }
   ],
   "source": [
    "df_data_pp = PP_df.copy()\n",
    "df_data_pp = df_data_pp.to_numpy()\n",
    "data_pp = df_data_pp[:, 1]\n",
    "data_pp = np.float32(data_pp)\n",
    "data_pp"
   ]
  },
  {
   "cell_type": "code",
   "execution_count": 926,
   "metadata": {},
   "outputs": [
    {
     "data": {
      "text/plain": [
       "array([-0.00182247, -0.00207806,  0.00903606, ..., -0.02287388,\n",
       "        0.02166843, -0.0095849 ], dtype=float32)"
      ]
     },
     "execution_count": 926,
     "metadata": {},
     "output_type": "execute_result"
    }
   ],
   "source": [
    "r_pp = np.diff(np.log(data_pp), n=1, axis=0)\n",
    "r_pp"
   ]
  },
  {
   "cell_type": "code",
   "execution_count": 927,
   "metadata": {},
   "outputs": [
    {
     "data": {
      "text/html": [
       "<div>\n",
       "<style scoped>\n",
       "    .dataframe tbody tr th:only-of-type {\n",
       "        vertical-align: middle;\n",
       "    }\n",
       "\n",
       "    .dataframe tbody tr th {\n",
       "        vertical-align: top;\n",
       "    }\n",
       "\n",
       "    .dataframe thead th {\n",
       "        text-align: right;\n",
       "    }\n",
       "</style>\n",
       "<table border=\"1\" class=\"dataframe\">\n",
       "  <thead>\n",
       "    <tr style=\"text-align: right;\">\n",
       "      <th></th>\n",
       "      <th>Date</th>\n",
       "      <th>PP</th>\n",
       "    </tr>\n",
       "  </thead>\n",
       "  <tbody>\n",
       "    <tr>\n",
       "      <th>1</th>\n",
       "      <td>2015-01-02</td>\n",
       "      <td>794.85</td>\n",
       "    </tr>\n",
       "    <tr>\n",
       "      <th>2</th>\n",
       "      <td>2015-01-05</td>\n",
       "      <td>793.20</td>\n",
       "    </tr>\n",
       "    <tr>\n",
       "      <th>3</th>\n",
       "      <td>2015-01-06</td>\n",
       "      <td>800.40</td>\n",
       "    </tr>\n",
       "    <tr>\n",
       "      <th>4</th>\n",
       "      <td>2015-01-07</td>\n",
       "      <td>792.45</td>\n",
       "    </tr>\n",
       "    <tr>\n",
       "      <th>5</th>\n",
       "      <td>2015-01-08</td>\n",
       "      <td>793.10</td>\n",
       "    </tr>\n",
       "    <tr>\n",
       "      <th>...</th>\n",
       "      <td>...</td>\n",
       "      <td>...</td>\n",
       "    </tr>\n",
       "    <tr>\n",
       "      <th>2319</th>\n",
       "      <td>2022-12-26</td>\n",
       "      <td>1763.00</td>\n",
       "    </tr>\n",
       "    <tr>\n",
       "      <th>2320</th>\n",
       "      <td>2022-12-27</td>\n",
       "      <td>1826.30</td>\n",
       "    </tr>\n",
       "    <tr>\n",
       "      <th>2321</th>\n",
       "      <td>2022-12-28</td>\n",
       "      <td>1785.00</td>\n",
       "    </tr>\n",
       "    <tr>\n",
       "      <th>2322</th>\n",
       "      <td>2022-12-29</td>\n",
       "      <td>1824.10</td>\n",
       "    </tr>\n",
       "    <tr>\n",
       "      <th>2323</th>\n",
       "      <td>2022-12-30</td>\n",
       "      <td>1806.70</td>\n",
       "    </tr>\n",
       "  </tbody>\n",
       "</table>\n",
       "<p>2323 rows × 2 columns</p>\n",
       "</div>"
      ],
      "text/plain": [
       "           Date       PP\n",
       "1    2015-01-02   794.85\n",
       "2    2015-01-05   793.20\n",
       "3    2015-01-06   800.40\n",
       "4    2015-01-07   792.45\n",
       "5    2015-01-08   793.10\n",
       "...         ...      ...\n",
       "2319 2022-12-26  1763.00\n",
       "2320 2022-12-27  1826.30\n",
       "2321 2022-12-28  1785.00\n",
       "2322 2022-12-29  1824.10\n",
       "2323 2022-12-30  1806.70\n",
       "\n",
       "[2323 rows x 2 columns]"
      ]
     },
     "execution_count": 927,
     "metadata": {},
     "output_type": "execute_result"
    }
   ],
   "source": [
    "df_r_pp_temp = PP_df.copy()\n",
    "df_r_pp_temp.drop(axis=0, index=[0], inplace=True)\n",
    "df_r_pp_temp"
   ]
  },
  {
   "cell_type": "code",
   "execution_count": 928,
   "metadata": {},
   "outputs": [
    {
     "data": {
      "text/html": [
       "<div>\n",
       "<style scoped>\n",
       "    .dataframe tbody tr th:only-of-type {\n",
       "        vertical-align: middle;\n",
       "    }\n",
       "\n",
       "    .dataframe tbody tr th {\n",
       "        vertical-align: top;\n",
       "    }\n",
       "\n",
       "    .dataframe thead th {\n",
       "        text-align: right;\n",
       "    }\n",
       "</style>\n",
       "<table border=\"1\" class=\"dataframe\">\n",
       "  <thead>\n",
       "    <tr style=\"text-align: right;\">\n",
       "      <th></th>\n",
       "      <th>Return</th>\n",
       "    </tr>\n",
       "    <tr>\n",
       "      <th>Date</th>\n",
       "      <th></th>\n",
       "    </tr>\n",
       "  </thead>\n",
       "  <tbody>\n",
       "    <tr>\n",
       "      <th>2015-01-02</th>\n",
       "      <td>-0.001822</td>\n",
       "    </tr>\n",
       "    <tr>\n",
       "      <th>2015-01-05</th>\n",
       "      <td>-0.002078</td>\n",
       "    </tr>\n",
       "    <tr>\n",
       "      <th>2015-01-06</th>\n",
       "      <td>0.009036</td>\n",
       "    </tr>\n",
       "    <tr>\n",
       "      <th>2015-01-07</th>\n",
       "      <td>-0.009982</td>\n",
       "    </tr>\n",
       "    <tr>\n",
       "      <th>2015-01-08</th>\n",
       "      <td>0.000820</td>\n",
       "    </tr>\n",
       "    <tr>\n",
       "      <th>...</th>\n",
       "      <td>...</td>\n",
       "    </tr>\n",
       "    <tr>\n",
       "      <th>2022-12-26</th>\n",
       "      <td>0.017740</td>\n",
       "    </tr>\n",
       "    <tr>\n",
       "      <th>2022-12-27</th>\n",
       "      <td>0.035275</td>\n",
       "    </tr>\n",
       "    <tr>\n",
       "      <th>2022-12-28</th>\n",
       "      <td>-0.022874</td>\n",
       "    </tr>\n",
       "    <tr>\n",
       "      <th>2022-12-29</th>\n",
       "      <td>0.021668</td>\n",
       "    </tr>\n",
       "    <tr>\n",
       "      <th>2022-12-30</th>\n",
       "      <td>-0.009585</td>\n",
       "    </tr>\n",
       "  </tbody>\n",
       "</table>\n",
       "<p>2323 rows × 1 columns</p>\n",
       "</div>"
      ],
      "text/plain": [
       "              Return\n",
       "Date                \n",
       "2015-01-02 -0.001822\n",
       "2015-01-05 -0.002078\n",
       "2015-01-06  0.009036\n",
       "2015-01-07 -0.009982\n",
       "2015-01-08  0.000820\n",
       "...              ...\n",
       "2022-12-26  0.017740\n",
       "2022-12-27  0.035275\n",
       "2022-12-28 -0.022874\n",
       "2022-12-29  0.021668\n",
       "2022-12-30 -0.009585\n",
       "\n",
       "[2323 rows x 1 columns]"
      ]
     },
     "execution_count": 928,
     "metadata": {},
     "output_type": "execute_result"
    }
   ],
   "source": [
    "df_r_pp_temp['Return'] = r_pp\n",
    "df_r_pp_temp.drop(axis=1, columns='PP', inplace=True)\n",
    "df_r_pp_temp = df_r_pp_temp.set_index('Date')\n",
    "df_r_pp_temp.index = pd.to_datetime(df_r_pp_temp.index)\n",
    "df_r_pp_temp"
   ]
  },
  {
   "cell_type": "markdown",
   "metadata": {},
   "source": [
    "### 2. Visualize"
   ]
  },
  {
   "cell_type": "code",
   "execution_count": 929,
   "metadata": {},
   "outputs": [
    {
     "data": {
      "image/png": "[encoded data removed]",
      "text/plain": [
       "<Figure size 1500x800 with 2 Axes>"
      ]
     },
     "metadata": {},
     "output_type": "display_data"
    }
   ],
   "source": [
    "fig, ax= plt.subplots(2,1, figsize=(15,8))\n",
    "ax[0].plot(df_pp, color='black')\n",
    "ax[0].title.set_text('Giá Palladium')\n",
    "ax[0].set(xlabel='Year', ylabel='Point')\n",
    "ax[0].grid(True)\n",
    "ax[1].plot(df_r_pp_temp, color='red')\n",
    "ax[1].title.set_text('Tỷ suất sinh lợi của Palladium')\n",
    "ax[1].set(xlabel='Year', ylabel='Returns')\n",
    "ax[1].grid(True)\n",
    "plt.tight_layout()"
   ]
  },
  {
   "cell_type": "markdown",
   "metadata": {},
   "source": [
    "### 3. Description Statistic"
   ]
  },
  {
   "cell_type": "code",
   "execution_count": 930,
   "metadata": {},
   "outputs": [
    {
     "name": "stdout",
     "output_type": "stream",
     "text": [
      "Obs       : 2323\n",
      "Median    : 0.0010352135\n",
      "Mean      : 0.00035268234\n",
      "Std. Dev  : 0.021187821\n",
      "Minimum   : -0.22917128\n",
      "Maximum   : 0.18627024\n",
      "Skewness  : -0.5590508793995949\n",
      "Kurtosis  : 14.868310770307795\n",
      "Jarque-Bera test: SignificanceResult(statistic=13754.768757804628, pvalue=0.0)\n"
     ]
    }
   ],
   "source": [
    "print('Obs       :', len(r_pp))\n",
    "print('Median    :', np.median(r_pp))\n",
    "print('Mean      :', np.mean(r_pp))\n",
    "print('Std. Dev  :', np.std(r_pp, ddof=1))\n",
    "print('Minimum   :', np.min(r_pp))\n",
    "print('Maximum   :', np.max(r_pp))\n",
    "print('Skewness  :', stats.skew(r_pp))\n",
    "print('Kurtosis  :', stats.kurtosis(r_pp, fisher = False))\n",
    "print('Jarque-Bera test:', stats.jarque_bera(r_pp))"
   ]
  },
  {
   "cell_type": "code",
   "execution_count": 931,
   "metadata": {},
   "outputs": [
    {
     "name": "stdout",
     "output_type": "stream",
     "text": [
      "ADF Statistic: -13.131759190992538\n",
      "p-value: 1.4897734287827031e-24\n",
      "Critical Values: {'1%': -3.433195115207185, '5%': -2.8627969090099765, '10%': -2.567439109419199}\n"
     ]
    }
   ],
   "source": [
    "adf_pp = adfuller(r_pp)\n",
    "print('ADF Statistic:', adf_pp[0])\n",
    "print('p-value:', adf_pp[1])\n",
    "print('Critical Values:', adf_pp[4])"
   ]
  },
  {
   "cell_type": "markdown",
   "metadata": {},
   "source": [
    "### 4. ARCH(1)"
   ]
  },
  {
   "cell_type": "code",
   "execution_count": 932,
   "metadata": {},
   "outputs": [],
   "source": [
    "#Chuyển TSSL sang dạng % cho thuận tiện\n",
    "rp_pp = r_pp*100"
   ]
  },
  {
   "cell_type": "code",
   "execution_count": 933,
   "metadata": {},
   "outputs": [
    {
     "name": "stdout",
     "output_type": "stream",
     "text": [
      "ARCH(1) model: \n",
      "                       Constant Mean - ARCH Model Results                      \n",
      "==============================================================================\n",
      "Dep. Variable:                      y   R-squared:                       0.000\n",
      "Mean Model:             Constant Mean   Adj. R-squared:                  0.000\n",
      "Vol Model:                       ARCH   Log-Likelihood:               -4906.77\n",
      "Distribution:                  Normal   AIC:                           9819.55\n",
      "Method:            Maximum Likelihood   BIC:                           9836.80\n",
      "                                        No. Observations:                 2323\n",
      "Date:                Fri, Jun 14 2024   Df Residuals:                     2322\n",
      "Time:                        13:44:31   Df Model:                            1\n",
      "                                 Mean Model                                \n",
      "===========================================================================\n",
      "                 coef    std err          t      P>|t|     95.0% Conf. Int.\n",
      "---------------------------------------------------------------------------\n",
      "mu             0.0710  4.258e-02      1.667  9.546e-02 [-1.246e-02,  0.154]\n",
      "                            Volatility Model                            \n",
      "========================================================================\n",
      "                 coef    std err          t      P>|t|  95.0% Conf. Int.\n",
      "------------------------------------------------------------------------\n",
      "omega          3.0727      0.201     15.324  5.325e-53 [  2.680,  3.466]\n",
      "alpha[1]       0.3357  8.678e-02      3.869  1.094e-04 [  0.166,  0.506]\n",
      "========================================================================\n",
      "\n",
      "Covariance estimator: robust \n",
      "\n",
      "LB Test Result: \n",
      "       lb_stat  lb_pvalue\n",
      "5    2.187283   0.822671\n",
      "10  16.656094   0.082329\n",
      "15  22.487761   0.095638\n",
      "20  31.235895   0.052152\n",
      "\n",
      "JB Test Result: \n",
      " SignificanceResult(statistic=1827.2068001521122, pvalue=0.0)\n"
     ]
    }
   ],
   "source": [
    "#Ước lượng mô hình ARCH(1)\n",
    "am0= arch_model(rp_pp, mean = 'Constant', p=1, o=0, q=0, dist=dist)\n",
    "arch1 = am0.fit(update_freq=5, disp = \"off\")\n",
    "print(\"ARCH(1) model:\", \"\\n\", arch1.summary(), \"\\n\")\n",
    "#Kiểm định phần dư của ARCH(1)\n",
    "arch_stdresid= arch1.resid/arch1.conditional_volatility\n",
    "arch1lb = acorr_ljungbox(arch_stdresid, lags=[5,10,15,20]) \n",
    "print('LB Test Result:','\\n',arch1lb)\n",
    "jb_arch = jarque_bera(arch_stdresid)\n",
    "print('\\nJB Test Result:','\\n',jb_arch)\n"
   ]
  },
  {
   "cell_type": "code",
   "execution_count": 934,
   "metadata": {},
   "outputs": [
    {
     "data": {
      "text/plain": [
       "ARCH-LM Test\n",
       "H0: Standardized residuals are homoskedastic.\n",
       "ARCH-LM Test\n",
       "H1: Standardized residuals are conditionally heteroskedastic.\n",
       "Statistic: 162.7666\n",
       "P-value: 0.0000\n",
       "Distributed: chi2(27)\n",
       "WaldTestStatistic, id: 0x1715e2a2fb0"
      ]
     },
     "execution_count": 934,
     "metadata": {},
     "output_type": "execute_result"
    }
   ],
   "source": [
    "# LM test\n",
    "arch1.arch_lm_test(standardized=True)"
   ]
  },
  {
   "cell_type": "markdown",
   "metadata": {},
   "source": [
    "### 5. GARCH(1, 1)"
   ]
  },
  {
   "cell_type": "code",
   "execution_count": 935,
   "metadata": {},
   "outputs": [
    {
     "name": "stdout",
     "output_type": "stream",
     "text": [
      "GARCH(1,1) model: \n",
      "                      Constant Mean - GARCH Model Results                      \n",
      "==============================================================================\n",
      "Dep. Variable:                      y   R-squared:                       0.000\n",
      "Mean Model:             Constant Mean   Adj. R-squared:                  0.000\n",
      "Vol Model:                      GARCH   Log-Likelihood:               -4801.59\n",
      "Distribution:                  Normal   AIC:                           9611.17\n",
      "Method:            Maximum Likelihood   BIC:                           9634.17\n",
      "                                        No. Observations:                 2323\n",
      "Date:                Fri, Jun 14 2024   Df Residuals:                     2322\n",
      "Time:                        13:44:31   Df Model:                            1\n",
      "                                 Mean Model                                \n",
      "===========================================================================\n",
      "                 coef    std err          t      P>|t|     95.0% Conf. Int.\n",
      "---------------------------------------------------------------------------\n",
      "mu             0.0700  3.673e-02      1.907  5.656e-02 [-1.956e-03,  0.142]\n",
      "                              Volatility Model                              \n",
      "============================================================================\n",
      "                 coef    std err          t      P>|t|      95.0% Conf. Int.\n",
      "----------------------------------------------------------------------------\n",
      "omega          0.0817  4.636e-02      1.761  7.817e-02  [-9.206e-03,  0.173]\n",
      "alpha[1]       0.0567  2.041e-02      2.776  5.500e-03 [1.666e-02,9.668e-02]\n",
      "beta[1]        0.9249  2.662e-02     34.746 1.582e-264     [  0.873,  0.977]\n",
      "============================================================================\n",
      "\n",
      "Covariance estimator: robust \n",
      "\n",
      "LB Test Result: \n",
      "       lb_stat  lb_pvalue\n",
      "5    4.331217   0.502778\n",
      "10  14.262691   0.161343\n",
      "15  20.052281   0.169936\n",
      "20  25.172287   0.194919\n",
      "\n",
      "JB Test Result: \n",
      " SignificanceResult(statistic=2394.297076444995, pvalue=0.0)\n"
     ]
    }
   ],
   "source": [
    "#Ước lượng mô hình GARCH(1,1)\n",
    "am1 = arch_model(rp_pp, mean = 'Constant', vol='GARCH', p=1, o=0, q=1, dist=dist)\n",
    "garch1_1 = am1.fit(update_freq=5, disp = \"off\")\n",
    "print(\"GARCH(1,1) model:\", \"\\n\", garch1_1.summary(), \"\\n\")\n",
    "\n",
    "#Kiểm định phần dư của GARCH(1,1)\n",
    "garch_stdresid= garch1_1.resid/garch1_1.conditional_volatility\n",
    "garch11lb = acorr_ljungbox(garch_stdresid, lags=[5,10,15,20]) \n",
    "print('LB Test Result:','\\n',garch11lb)\n",
    "jb_arch = jarque_bera(garch_stdresid)\n",
    "print('\\nJB Test Result:','\\n',jb_arch)"
   ]
  },
  {
   "cell_type": "markdown",
   "metadata": {},
   "source": [
    "### 6. GJR-GARCH"
   ]
  },
  {
   "cell_type": "code",
   "execution_count": 936,
   "metadata": {},
   "outputs": [
    {
     "name": "stdout",
     "output_type": "stream",
     "text": [
      "TGARCH(1,1) model: \n",
      "                    Constant Mean - GJR-GARCH Model Results                    \n",
      "==============================================================================\n",
      "Dep. Variable:                      y   R-squared:                       0.000\n",
      "Mean Model:             Constant Mean   Adj. R-squared:                  0.000\n",
      "Vol Model:                  GJR-GARCH   Log-Likelihood:               -4801.38\n",
      "Distribution:                  Normal   AIC:                           9612.76\n",
      "Method:            Maximum Likelihood   BIC:                           9641.51\n",
      "                                        No. Observations:                 2323\n",
      "Date:                Fri, Jun 14 2024   Df Residuals:                     2322\n",
      "Time:                        13:44:31   Df Model:                            1\n",
      "                                Mean Model                                \n",
      "==========================================================================\n",
      "                 coef    std err          t      P>|t|    95.0% Conf. Int.\n",
      "--------------------------------------------------------------------------\n",
      "mu             0.0749  3.790e-02      1.975  4.827e-02 [5.695e-04,  0.149]\n",
      "                               Volatility Model                               \n",
      "==============================================================================\n",
      "                  coef    std err          t      P>|t|       95.0% Conf. Int.\n",
      "------------------------------------------------------------------------------\n",
      "omega           0.0801  4.680e-02      1.712  8.687e-02   [-1.160e-02,  0.172]\n",
      "alpha[1]        0.0606  2.081e-02      2.909  3.622e-03    [1.976e-02,  0.101]\n",
      "gamma[1]   -7.6209e-03  1.956e-02     -0.390      0.697 [-4.597e-02,3.072e-02]\n",
      "beta[1]         0.9255  2.691e-02     34.392 3.374e-259      [  0.873,  0.978]\n",
      "==============================================================================\n",
      "\n",
      "Covariance estimator: robust \n",
      "\n",
      "LB Test Result: \n",
      "       lb_stat  lb_pvalue\n",
      "5    4.495663   0.480464\n",
      "10  14.492674   0.151682\n",
      "15  20.215273   0.163829\n",
      "20  25.289784   0.190569\n",
      "\n",
      "JB Test Result: \n",
      " SignificanceResult(statistic=2464.4121547671084, pvalue=0.0)\n"
     ]
    }
   ],
   "source": [
    "#Ước lượng mô hình TGARCH(1,1)\n",
    "am2 = arch_model(rp_pp, mean = 'Constant', vol='GARCH', p=1, o=1, q=1, dist=dist)\n",
    "leverage_garch1_1 = am2.fit(update_freq=5, disp = \"off\")\n",
    "print(\"TGARCH(1,1) model:\", \"\\n\", leverage_garch1_1.summary(), \"\\n\")\n",
    "\n",
    "#Kiểm định phần dư của TGARCH(1,1)\n",
    "tgarch_stdresid= leverage_garch1_1.resid/leverage_garch1_1.conditional_volatility\n",
    "tgarch11lb = acorr_ljungbox(tgarch_stdresid, lags=[5,10,15,20]) \n",
    "print('LB Test Result:','\\n',tgarch11lb)\n",
    "jb_arch = jarque_bera(tgarch_stdresid)\n",
    "print('\\nJB Test Result:','\\n',jb_arch)"
   ]
  },
  {
   "cell_type": "markdown",
   "metadata": {},
   "source": [
    "### 7. EGRACH"
   ]
  },
  {
   "cell_type": "code",
   "execution_count": 937,
   "metadata": {},
   "outputs": [
    {
     "name": "stdout",
     "output_type": "stream",
     "text": [
      "EGARCH(1,1) model: \n",
      "                      Constant Mean - EGARCH Model Results                     \n",
      "==============================================================================\n",
      "Dep. Variable:                      y   R-squared:                       0.000\n",
      "Mean Model:             Constant Mean   Adj. R-squared:                  0.000\n",
      "Vol Model:                     EGARCH   Log-Likelihood:               -4810.66\n",
      "Distribution:                  Normal   AIC:                           9631.32\n",
      "Method:            Maximum Likelihood   BIC:                           9660.07\n",
      "                                        No. Observations:                 2323\n",
      "Date:                Fri, Jun 14 2024   Df Residuals:                     2322\n",
      "Time:                        13:44:31   Df Model:                            1\n",
      "                                Mean Model                                \n",
      "==========================================================================\n",
      "                 coef    std err          t      P>|t|    95.0% Conf. Int.\n",
      "--------------------------------------------------------------------------\n",
      "mu             0.0838  3.801e-02      2.205  2.748e-02 [9.299e-03,  0.158]\n",
      "                               Volatility Model                               \n",
      "==============================================================================\n",
      "                  coef    std err          t      P>|t|       95.0% Conf. Int.\n",
      "------------------------------------------------------------------------------\n",
      "omega           0.0278  1.241e-02      2.240  2.507e-02  [3.479e-03,5.211e-02]\n",
      "alpha[1]        0.1171  3.553e-02      3.297  9.762e-04    [4.751e-02,  0.187]\n",
      "gamma[1]   -3.1539e-03  1.496e-02     -0.211      0.833 [-3.248e-02,2.617e-02]\n",
      "beta[1]         0.9864  7.898e-03    124.884      0.000      [  0.971,  1.002]\n",
      "==============================================================================\n",
      "\n",
      "Covariance estimator: robust \n",
      "\n",
      "LB Test Result: \n",
      "       lb_stat  lb_pvalue\n",
      "5    5.009102   0.414770\n",
      "10  16.257269   0.092501\n",
      "15  22.360317   0.098698\n",
      "20  27.796366   0.114308\n",
      "\n",
      "JB Test Result: \n",
      " SignificanceResult(statistic=3152.4151825653785, pvalue=0.0)\n"
     ]
    }
   ],
   "source": [
    "#Ước lượng mô hình EGARCH(1,1)\n",
    "am3 = arch_model(rp_pp, mean = 'Constant', vol='EGARCH', p=1, o=1, q=1, dist=dist)\n",
    "exponetial_garch1_1 = am3.fit(update_freq=5, disp = \"off\")\n",
    "print(\"EGARCH(1,1) model:\", \"\\n\", exponetial_garch1_1.summary(), \"\\n\")\n",
    "\n",
    "#Kiểm định phần dư của TGARCH(1,1)\n",
    "egarch_stdresid= exponetial_garch1_1.resid/exponetial_garch1_1.conditional_volatility\n",
    "egarch11lb = acorr_ljungbox(egarch_stdresid, lags=[5,10,15,20]) \n",
    "print('LB Test Result:','\\n',egarch11lb)\n",
    "jb_arch = jarque_bera(egarch_stdresid)\n",
    "print('\\nJB Test Result:','\\n',jb_arch)"
   ]
  },
  {
   "cell_type": "markdown",
   "metadata": {},
   "source": [
    "### 8. Evaluate"
   ]
  },
  {
   "cell_type": "code",
   "execution_count": 938,
   "metadata": {},
   "outputs": [
    {
     "name": "stdout",
     "output_type": "stream",
     "text": [
      "ARCH(1):\n",
      "RMSE: 4.799\n",
      "MAE: 4.138\n",
      "MAPE: 4.474\n",
      "TIC:  6.923\n",
      "\n",
      "RMSE: 7.563\n",
      "MAE: 7.155\n",
      "MAPE: 7.285\n",
      "TIC:  10.607\n",
      "\n",
      "RMSE: 7.630\n",
      "MAE: 7.214\n",
      "MAPE: 7.339\n",
      "TIC:  10.690\n",
      "\n",
      "RMSE: 8.754\n",
      "MAE: 8.406\n",
      "MAPE: 8.434\n",
      "TIC:  12.294\n",
      "\n",
      "Best Forecasting Model (Lowest RMSE): ARCH(1)\n",
      "\n",
      "Best Forecasting Model (Lowest MAE): ARCH(1)\n",
      "\n",
      "Best Forecasting Model (Lowest MAPE): ARCH(1)\n",
      "\n",
      "Best Forecasting Model (Lowest TIC): ARCH(1)\n"
     ]
    }
   ],
   "source": [
    "#Tính các giá trị sai số của mô hình ARCH(1)\n",
    "res= am0.fit(last_obs=1987, update_freq=5, disp='off')\n",
    "forecasts = res.forecast(horizon=1)\n",
    "forecast_vals = forecasts.residual_variance.values[-10:]\n",
    "actual_vals = rp_pbk[-10:]\n",
    "\n",
    "rmse_arch1 = np.sqrt(mean_squared_error(actual_vals, forecast_vals))\n",
    "mae_arch1 = mean_absolute_error(actual_vals, forecast_vals)\n",
    "mape_arch1 = np.mean(np.abs(forecast_vals - actual_vals)/np.abs(actual_vals))\n",
    "\n",
    "tic_arch1 = tic(forecast_vals, actual_vals) \n",
    "\n",
    "print('ARCH(1):')\n",
    "print('RMSE: %0.3f' % rmse_arch1)\n",
    "print('MAE: %0.3f' % mae_arch1) \n",
    "print('MAPE: %0.3f' % mape_arch1)\n",
    "print('TIC: % 0.3f' % tic_arch1)\n",
    "\n",
    "#Tính các giá trị sai số của mô hình GARCH(1,1)\n",
    "res1= am1.fit(last_obs=1987, update_freq=5, disp='off')\n",
    "forecasts1 = res1.forecast(horizon=1)\n",
    "forecast_vals1 = forecasts1.residual_variance.values[-10:]\n",
    "\n",
    "rmse_garch11 = np.sqrt(mean_squared_error(actual_vals, forecast_vals1))\n",
    "mae_garch11 = mean_absolute_error(actual_vals, forecast_vals1)\n",
    "mape_garch11 = np.mean(np.abs(forecast_vals1 - actual_vals)/np.abs(actual_vals))\n",
    "\n",
    "tic_garch11 = tic(forecast_vals1, actual_vals) \n",
    "\n",
    "print('\\nRMSE: %0.3f' % rmse_garch11)\n",
    "print('MAE: %0.3f' % mae_garch11) \n",
    "print('MAPE: %0.3f' % mape_garch11)\n",
    "print('TIC: % 0.3f' % tic_garch11)\n",
    "\n",
    "#Tính các giá trị sai số của mô hình TGARCH(1,1)\n",
    "res2= am2.fit(last_obs=1987, update_freq=5, disp='off')\n",
    "forecasts2 = res2.forecast(horizon=1)\n",
    "forecast_vals2 = forecasts2.residual_variance.values[-10:]\n",
    "\n",
    "rmse_tgarch11 = np.sqrt(mean_squared_error(actual_vals, forecast_vals2))\n",
    "mae_tgarch11 = mean_absolute_error(actual_vals, forecast_vals2)\n",
    "mape_tgarch11 = np.mean(np.abs(forecast_vals2 - actual_vals)/np.abs(actual_vals))\n",
    "\n",
    "tic_tgarch11 = tic(forecast_vals2, actual_vals) \n",
    "\n",
    "print('\\nRMSE: %0.3f' % rmse_tgarch11)\n",
    "print('MAE: %0.3f' % mae_tgarch11) \n",
    "print('MAPE: %0.3f' % mape_tgarch11)\n",
    "print('TIC: % 0.3f' % tic_tgarch11)\n",
    "\n",
    "#Tính các giá trị sai số của mô hình EGARCH(1,1)\n",
    "res3= am3.fit(last_obs=1987, update_freq=5, disp='off')\n",
    "forecasts3 = res3.forecast(horizon=1)\n",
    "forecast_vals3 = forecasts3.residual_variance.values[-10:]\n",
    "\n",
    "rmse_egarch11 = np.sqrt(mean_squared_error(actual_vals, forecast_vals3))\n",
    "mae_egarch11 = mean_absolute_error(actual_vals, forecast_vals3)\n",
    "mape_egarch11 = np.mean(np.abs(forecast_vals3 - actual_vals)/np.abs(actual_vals))\n",
    "\n",
    "tic_egarch11 = tic(forecast_vals3, actual_vals) \n",
    "\n",
    "print('\\nRMSE: %0.3f' % rmse_egarch11)\n",
    "print('MAE: %0.3f' % mae_egarch11) \n",
    "print('MAPE: %0.3f' % mape_egarch11)\n",
    "print('TIC: % 0.3f' % tic_egarch11)\n",
    "\n",
    "RMSE_value=[rmse_arch1, rmse_garch11, rmse_tgarch11, rmse_egarch11]\n",
    "best_RMSEprediction= np.argmin(RMSE_value)\n",
    "print('\\nBest Forecasting Model (Lowest RMSE):', ['ARCH(1)', 'GARCH(1,1)', 'TGARCH(1_1)', 'EGARCH(1_1)'][best_RMSEprediction])\n",
    "\n",
    "MAE_value=[mae_arch1, mae_arch1, mae_tgarch11, mae_egarch11]\n",
    "best_MAEprediction= np.argmin(MAE_value)\n",
    "print('\\nBest Forecasting Model (Lowest MAE):', ['ARCH(1)', 'GARCH(1,1)', 'TGARCH(1_1)', 'EGARCH(1_1)'][best_MAEprediction])\n",
    "\n",
    "MAPE_value=[mape_arch1, mape_garch11, mape_tgarch11, mape_egarch11]\n",
    "best_MAPEprediction= np.argmin(MAPE_value)\n",
    "print('\\nBest Forecasting Model (Lowest MAPE):', ['ARCH(1)', 'GARCH(1,1)', 'TGARCH(1_1)', 'EGARCH(1_1)'][best_MAPEprediction])\n",
    "\n",
    "TIC_value=[tic_arch1, tic_garch11, tic_tgarch11, tic_egarch11]\n",
    "best_TICprediction= np.argmin(TIC_value)\n",
    "print('\\nBest Forecasting Model (Lowest TIC):', ['ARCH(1)', 'GARCH(1,1)', 'TGARCH(1_1)', 'EGARCH(1_1)'][best_TICprediction])"
   ]
  },
  {
   "cell_type": "markdown",
   "metadata": {},
   "source": [
    "## PB"
   ]
  },
  {
   "cell_type": "markdown",
   "metadata": {},
   "source": [
    "### 1. Data preparation"
   ]
  },
  {
   "cell_type": "code",
   "execution_count": 939,
   "metadata": {},
   "outputs": [
    {
     "data": {
      "text/html": [
       "<div>\n",
       "<style scoped>\n",
       "    .dataframe tbody tr th:only-of-type {\n",
       "        vertical-align: middle;\n",
       "    }\n",
       "\n",
       "    .dataframe tbody tr th {\n",
       "        vertical-align: top;\n",
       "    }\n",
       "\n",
       "    .dataframe thead th {\n",
       "        text-align: right;\n",
       "    }\n",
       "</style>\n",
       "<table border=\"1\" class=\"dataframe\">\n",
       "  <thead>\n",
       "    <tr style=\"text-align: right;\">\n",
       "      <th></th>\n",
       "      <th>PB</th>\n",
       "    </tr>\n",
       "    <tr>\n",
       "      <th>Date</th>\n",
       "      <th></th>\n",
       "    </tr>\n",
       "  </thead>\n",
       "  <tbody>\n",
       "    <tr>\n",
       "      <th>2015-01-02</th>\n",
       "      <td>15.768</td>\n",
       "    </tr>\n",
       "    <tr>\n",
       "      <th>2015-01-05</th>\n",
       "      <td>16.213</td>\n",
       "    </tr>\n",
       "    <tr>\n",
       "      <th>2015-01-06</th>\n",
       "      <td>16.637</td>\n",
       "    </tr>\n",
       "    <tr>\n",
       "      <th>2015-01-07</th>\n",
       "      <td>16.544</td>\n",
       "    </tr>\n",
       "    <tr>\n",
       "      <th>2015-01-08</th>\n",
       "      <td>16.385</td>\n",
       "    </tr>\n",
       "    <tr>\n",
       "      <th>...</th>\n",
       "      <td>...</td>\n",
       "    </tr>\n",
       "    <tr>\n",
       "      <th>2022-12-26</th>\n",
       "      <td>24.055</td>\n",
       "    </tr>\n",
       "    <tr>\n",
       "      <th>2022-12-27</th>\n",
       "      <td>24.217</td>\n",
       "    </tr>\n",
       "    <tr>\n",
       "      <th>2022-12-28</th>\n",
       "      <td>23.840</td>\n",
       "    </tr>\n",
       "    <tr>\n",
       "      <th>2022-12-29</th>\n",
       "      <td>24.250</td>\n",
       "    </tr>\n",
       "    <tr>\n",
       "      <th>2022-12-30</th>\n",
       "      <td>24.040</td>\n",
       "    </tr>\n",
       "  </tbody>\n",
       "</table>\n",
       "<p>2051 rows × 1 columns</p>\n",
       "</div>"
      ],
      "text/plain": [
       "                PB\n",
       "Date              \n",
       "2015-01-02  15.768\n",
       "2015-01-05  16.213\n",
       "2015-01-06  16.637\n",
       "2015-01-07  16.544\n",
       "2015-01-08  16.385\n",
       "...            ...\n",
       "2022-12-26  24.055\n",
       "2022-12-27  24.217\n",
       "2022-12-28  23.840\n",
       "2022-12-29  24.250\n",
       "2022-12-30  24.040\n",
       "\n",
       "[2051 rows x 1 columns]"
      ]
     },
     "execution_count": 939,
     "metadata": {},
     "output_type": "execute_result"
    }
   ],
   "source": [
    "df_pb = PB_df.copy()\n",
    "df_pb = df_pb.set_index('Date')\n",
    "df_pb.index = pd.to_datetime(df_pb.index)\n",
    "# df = df.to_numpy()\n",
    "df_pb"
   ]
  },
  {
   "cell_type": "code",
   "execution_count": 940,
   "metadata": {},
   "outputs": [
    {
     "data": {
      "text/plain": [
       "array([15.768, 16.213, 16.637, ..., 23.84 , 24.25 , 24.04 ], dtype=float32)"
      ]
     },
     "execution_count": 940,
     "metadata": {},
     "output_type": "execute_result"
    }
   ],
   "source": [
    "df_data_pb = PB_df.copy()\n",
    "df_data_pb = df_data_pb.to_numpy()\n",
    "data_pb = df_data_pb[:, 1]\n",
    "data_pb = np.float32(data_pb)\n",
    "data_pb"
   ]
  },
  {
   "cell_type": "code",
   "execution_count": 941,
   "metadata": {},
   "outputs": [
    {
     "data": {
      "text/plain": [
       "array([ 0.02783084,  0.02581573, -0.00560546, ..., -0.01569009,\n",
       "        0.01705194, -0.00869751], dtype=float32)"
      ]
     },
     "execution_count": 941,
     "metadata": {},
     "output_type": "execute_result"
    }
   ],
   "source": [
    "r_pb = np.diff(np.log(data_pb), n=1, axis=0)\n",
    "r_pb"
   ]
  },
  {
   "cell_type": "code",
   "execution_count": 942,
   "metadata": {},
   "outputs": [
    {
     "data": {
      "text/html": [
       "<div>\n",
       "<style scoped>\n",
       "    .dataframe tbody tr th:only-of-type {\n",
       "        vertical-align: middle;\n",
       "    }\n",
       "\n",
       "    .dataframe tbody tr th {\n",
       "        vertical-align: top;\n",
       "    }\n",
       "\n",
       "    .dataframe thead th {\n",
       "        text-align: right;\n",
       "    }\n",
       "</style>\n",
       "<table border=\"1\" class=\"dataframe\">\n",
       "  <thead>\n",
       "    <tr style=\"text-align: right;\">\n",
       "      <th></th>\n",
       "      <th>Date</th>\n",
       "      <th>PB</th>\n",
       "    </tr>\n",
       "  </thead>\n",
       "  <tbody>\n",
       "    <tr>\n",
       "      <th>1</th>\n",
       "      <td>2015-01-05</td>\n",
       "      <td>16.213</td>\n",
       "    </tr>\n",
       "    <tr>\n",
       "      <th>2</th>\n",
       "      <td>2015-01-06</td>\n",
       "      <td>16.637</td>\n",
       "    </tr>\n",
       "    <tr>\n",
       "      <th>3</th>\n",
       "      <td>2015-01-07</td>\n",
       "      <td>16.544</td>\n",
       "    </tr>\n",
       "    <tr>\n",
       "      <th>4</th>\n",
       "      <td>2015-01-08</td>\n",
       "      <td>16.385</td>\n",
       "    </tr>\n",
       "    <tr>\n",
       "      <th>5</th>\n",
       "      <td>2015-01-09</td>\n",
       "      <td>16.419</td>\n",
       "    </tr>\n",
       "    <tr>\n",
       "      <th>...</th>\n",
       "      <td>...</td>\n",
       "      <td>...</td>\n",
       "    </tr>\n",
       "    <tr>\n",
       "      <th>2046</th>\n",
       "      <td>2022-12-26</td>\n",
       "      <td>24.055</td>\n",
       "    </tr>\n",
       "    <tr>\n",
       "      <th>2047</th>\n",
       "      <td>2022-12-27</td>\n",
       "      <td>24.217</td>\n",
       "    </tr>\n",
       "    <tr>\n",
       "      <th>2048</th>\n",
       "      <td>2022-12-28</td>\n",
       "      <td>23.840</td>\n",
       "    </tr>\n",
       "    <tr>\n",
       "      <th>2049</th>\n",
       "      <td>2022-12-29</td>\n",
       "      <td>24.250</td>\n",
       "    </tr>\n",
       "    <tr>\n",
       "      <th>2050</th>\n",
       "      <td>2022-12-30</td>\n",
       "      <td>24.040</td>\n",
       "    </tr>\n",
       "  </tbody>\n",
       "</table>\n",
       "<p>2050 rows × 2 columns</p>\n",
       "</div>"
      ],
      "text/plain": [
       "           Date      PB\n",
       "1    2015-01-05  16.213\n",
       "2    2015-01-06  16.637\n",
       "3    2015-01-07  16.544\n",
       "4    2015-01-08  16.385\n",
       "5    2015-01-09  16.419\n",
       "...         ...     ...\n",
       "2046 2022-12-26  24.055\n",
       "2047 2022-12-27  24.217\n",
       "2048 2022-12-28  23.840\n",
       "2049 2022-12-29  24.250\n",
       "2050 2022-12-30  24.040\n",
       "\n",
       "[2050 rows x 2 columns]"
      ]
     },
     "execution_count": 942,
     "metadata": {},
     "output_type": "execute_result"
    }
   ],
   "source": [
    "df_r_pb_temp = PB_df.copy()\n",
    "df_r_pb_temp.drop(axis=0, index=[0], inplace=True)\n",
    "df_r_pb_temp"
   ]
  },
  {
   "cell_type": "code",
   "execution_count": 943,
   "metadata": {},
   "outputs": [
    {
     "data": {
      "text/html": [
       "<div>\n",
       "<style scoped>\n",
       "    .dataframe tbody tr th:only-of-type {\n",
       "        vertical-align: middle;\n",
       "    }\n",
       "\n",
       "    .dataframe tbody tr th {\n",
       "        vertical-align: top;\n",
       "    }\n",
       "\n",
       "    .dataframe thead th {\n",
       "        text-align: right;\n",
       "    }\n",
       "</style>\n",
       "<table border=\"1\" class=\"dataframe\">\n",
       "  <thead>\n",
       "    <tr style=\"text-align: right;\">\n",
       "      <th></th>\n",
       "      <th>Return</th>\n",
       "    </tr>\n",
       "    <tr>\n",
       "      <th>Date</th>\n",
       "      <th></th>\n",
       "    </tr>\n",
       "  </thead>\n",
       "  <tbody>\n",
       "    <tr>\n",
       "      <th>2015-01-05</th>\n",
       "      <td>0.027831</td>\n",
       "    </tr>\n",
       "    <tr>\n",
       "      <th>2015-01-06</th>\n",
       "      <td>0.025816</td>\n",
       "    </tr>\n",
       "    <tr>\n",
       "      <th>2015-01-07</th>\n",
       "      <td>-0.005605</td>\n",
       "    </tr>\n",
       "    <tr>\n",
       "      <th>2015-01-08</th>\n",
       "      <td>-0.009657</td>\n",
       "    </tr>\n",
       "    <tr>\n",
       "      <th>2015-01-09</th>\n",
       "      <td>0.002073</td>\n",
       "    </tr>\n",
       "    <tr>\n",
       "      <th>...</th>\n",
       "      <td>...</td>\n",
       "    </tr>\n",
       "    <tr>\n",
       "      <th>2022-12-26</th>\n",
       "      <td>0.005628</td>\n",
       "    </tr>\n",
       "    <tr>\n",
       "      <th>2022-12-27</th>\n",
       "      <td>0.006712</td>\n",
       "    </tr>\n",
       "    <tr>\n",
       "      <th>2022-12-28</th>\n",
       "      <td>-0.015690</td>\n",
       "    </tr>\n",
       "    <tr>\n",
       "      <th>2022-12-29</th>\n",
       "      <td>0.017052</td>\n",
       "    </tr>\n",
       "    <tr>\n",
       "      <th>2022-12-30</th>\n",
       "      <td>-0.008698</td>\n",
       "    </tr>\n",
       "  </tbody>\n",
       "</table>\n",
       "<p>2050 rows × 1 columns</p>\n",
       "</div>"
      ],
      "text/plain": [
       "              Return\n",
       "Date                \n",
       "2015-01-05  0.027831\n",
       "2015-01-06  0.025816\n",
       "2015-01-07 -0.005605\n",
       "2015-01-08 -0.009657\n",
       "2015-01-09  0.002073\n",
       "...              ...\n",
       "2022-12-26  0.005628\n",
       "2022-12-27  0.006712\n",
       "2022-12-28 -0.015690\n",
       "2022-12-29  0.017052\n",
       "2022-12-30 -0.008698\n",
       "\n",
       "[2050 rows x 1 columns]"
      ]
     },
     "execution_count": 943,
     "metadata": {},
     "output_type": "execute_result"
    }
   ],
   "source": [
    "df_r_pb_temp['Return'] = r_pb\n",
    "df_r_pb_temp.drop(axis=1, columns='PB', inplace=True)\n",
    "df_r_pb_temp = df_r_pb_temp.set_index('Date')\n",
    "df_r_pb_temp.index = pd.to_datetime(df_r_pb_temp.index)\n",
    "df_r_pb_temp"
   ]
  },
  {
   "cell_type": "markdown",
   "metadata": {},
   "source": [
    "### 2. Visualize"
   ]
  },
  {
   "cell_type": "code",
   "execution_count": 944,
   "metadata": {},
   "outputs": [
    {
     "data": {
      "image/png": "[encoded data removed]",
      "text/plain": [
       "<Figure size 1500x800 with 2 Axes>"
      ]
     },
     "metadata": {},
     "output_type": "display_data"
    }
   ],
   "source": [
    "fig, ax= plt.subplots(2,1, figsize=(15,8))\n",
    "ax[0].plot(df_pb, color='black')\n",
    "ax[0].title.set_text('Giá Bạc')\n",
    "ax[0].set(xlabel='Year', ylabel='Point')\n",
    "ax[0].grid(True)\n",
    "ax[1].plot(df_r_pb_temp, color='red')\n",
    "ax[1].title.set_text('Tỷ suất sinh lợi của Bạc')\n",
    "ax[1].set(xlabel='Year', ylabel='Returns')\n",
    "ax[1].grid(True)\n",
    "plt.tight_layout()"
   ]
  },
  {
   "cell_type": "markdown",
   "metadata": {},
   "source": [
    "### 3. Description Statistic"
   ]
  },
  {
   "cell_type": "code",
   "execution_count": 945,
   "metadata": {},
   "outputs": [
    {
     "name": "stdout",
     "output_type": "stream",
     "text": [
      "Obs       : 2050\n",
      "Median    : 0.00020337105\n",
      "Mean      : 0.00020572523\n",
      "Std. Dev  : 0.01784452\n",
      "Minimum   : -0.123454094\n",
      "Maximum   : 0.08896017\n",
      "Skewness  : -0.5310236013368216\n",
      "Kurtosis  : 9.377742609847544\n",
      "Jarque-Bera test: SignificanceResult(statistic=3570.719473718848, pvalue=0.0)\n"
     ]
    }
   ],
   "source": [
    "print('Obs       :', len(r_pb))\n",
    "print('Median    :', np.median(r_pb))\n",
    "print('Mean      :', np.mean(r_pb))\n",
    "print('Std. Dev  :', np.std(r_pb, ddof=1))\n",
    "print('Minimum   :', np.min(r_pb))\n",
    "print('Maximum   :', np.max(r_pb))\n",
    "print('Skewness  :', stats.skew(r_pb))\n",
    "print('Kurtosis  :', stats.kurtosis(r_pb, fisher = False))\n",
    "print('Jarque-Bera test:', stats.jarque_bera(r_pb))"
   ]
  },
  {
   "cell_type": "code",
   "execution_count": 946,
   "metadata": {},
   "outputs": [
    {
     "name": "stdout",
     "output_type": "stream",
     "text": [
      "ADF Statistic: -22.854883416686114\n",
      "p-value: 0.0\n",
      "Critical Values: {'1%': -3.433550158004116, '5%': -2.8629536749602478, '10%': -2.5675225771861077}\n"
     ]
    }
   ],
   "source": [
    "adf_pb= adfuller(r_pb)\n",
    "print('ADF Statistic:', adf_pb[0])\n",
    "print('p-value:', adf_pb[1])\n",
    "print('Critical Values:', adf_pb[4])"
   ]
  },
  {
   "cell_type": "markdown",
   "metadata": {},
   "source": [
    "### 4. ARCH(1)"
   ]
  },
  {
   "cell_type": "code",
   "execution_count": 947,
   "metadata": {},
   "outputs": [],
   "source": [
    "#Chuyển TSSL sang dạng % cho thuận tiện\n",
    "rp_pb = r_pb*100"
   ]
  },
  {
   "cell_type": "code",
   "execution_count": 948,
   "metadata": {},
   "outputs": [
    {
     "name": "stdout",
     "output_type": "stream",
     "text": [
      "ARCH(1) model: \n",
      "                       Constant Mean - ARCH Model Results                      \n",
      "==============================================================================\n",
      "Dep. Variable:                      y   R-squared:                       0.000\n",
      "Mean Model:             Constant Mean   Adj. R-squared:                  0.000\n",
      "Vol Model:                       ARCH   Log-Likelihood:               -4018.96\n",
      "Distribution:                  Normal   AIC:                           8043.91\n",
      "Method:            Maximum Likelihood   BIC:                           8060.79\n",
      "                                        No. Observations:                 2050\n",
      "Date:                Fri, Jun 14 2024   Df Residuals:                     2049\n",
      "Time:                        13:44:32   Df Model:                            1\n",
      "                                  Mean Model                                  \n",
      "==============================================================================\n",
      "                  coef    std err          t      P>|t|       95.0% Conf. Int.\n",
      "------------------------------------------------------------------------------\n",
      "mu         -9.6607e-03  3.830e-02     -0.252      0.801 [-8.472e-02,6.540e-02]\n",
      "                            Volatility Model                            \n",
      "========================================================================\n",
      "                 coef    std err          t      P>|t|  95.0% Conf. Int.\n",
      "------------------------------------------------------------------------\n",
      "omega          2.5170      0.174     14.429  3.399e-47 [  2.175,  2.859]\n",
      "alpha[1]       0.1948  4.817e-02      4.043  5.275e-05 [  0.100,  0.289]\n",
      "========================================================================\n",
      "\n",
      "Covariance estimator: robust \n",
      "\n",
      "LB Test Result: \n",
      "       lb_stat  lb_pvalue\n",
      "5    6.709681   0.243142\n",
      "10   8.838962   0.547452\n",
      "15  16.956407   0.321477\n",
      "20  26.079106   0.163215\n",
      "\n",
      "JB Test Result: \n",
      " SignificanceResult(statistic=1799.6939681689255, pvalue=0.0)\n"
     ]
    }
   ],
   "source": [
    "#Ước lượng mô hình ARCH(1)\n",
    "am0= arch_model(rp_pb, mean = 'Constant', p=1, o=0, q=0, dist=dist)\n",
    "arch1 = am0.fit(update_freq=5, disp = \"off\")\n",
    "print(\"ARCH(1) model:\", \"\\n\", arch1.summary(), \"\\n\")\n",
    "#Kiểm định phần dư của ARCH(1)\n",
    "arch_stdresid= arch1.resid/arch1.conditional_volatility\n",
    "arch1lb = acorr_ljungbox(arch_stdresid, lags=[5,10,15,20]) \n",
    "print('LB Test Result:','\\n',arch1lb)\n",
    "jb_arch = jarque_bera(arch_stdresid)\n",
    "print('\\nJB Test Result:','\\n',jb_arch)"
   ]
  },
  {
   "cell_type": "code",
   "execution_count": 949,
   "metadata": {},
   "outputs": [
    {
     "data": {
      "text/plain": [
       "ARCH-LM Test\n",
       "H0: Standardized residuals are homoskedastic.\n",
       "ARCH-LM Test\n",
       "H1: Standardized residuals are conditionally heteroskedastic.\n",
       "Statistic: 119.0972\n",
       "P-value: 0.0000\n",
       "Distributed: chi2(26)\n",
       "WaldTestStatistic, id: 0x1715ea2f9d0"
      ]
     },
     "execution_count": 949,
     "metadata": {},
     "output_type": "execute_result"
    }
   ],
   "source": [
    "# LM test\n",
    "arch1.arch_lm_test(standardized=True)"
   ]
  },
  {
   "cell_type": "markdown",
   "metadata": {},
   "source": [
    "### 5. GARCH(1, 1)"
   ]
  },
  {
   "cell_type": "code",
   "execution_count": 950,
   "metadata": {},
   "outputs": [
    {
     "name": "stdout",
     "output_type": "stream",
     "text": [
      "GARCH(1,1) model: \n",
      "                      Constant Mean - GARCH Model Results                      \n",
      "==============================================================================\n",
      "Dep. Variable:                      y   R-squared:                       0.000\n",
      "Mean Model:             Constant Mean   Adj. R-squared:                  0.000\n",
      "Vol Model:                      GARCH   Log-Likelihood:               -3902.21\n",
      "Distribution:                  Normal   AIC:                           7812.42\n",
      "Method:            Maximum Likelihood   BIC:                           7834.92\n",
      "                                        No. Observations:                 2050\n",
      "Date:                Fri, Jun 14 2024   Df Residuals:                     2049\n",
      "Time:                        13:44:33   Df Model:                            1\n",
      "                                  Mean Model                                  \n",
      "==============================================================================\n",
      "                  coef    std err          t      P>|t|       95.0% Conf. Int.\n",
      "------------------------------------------------------------------------------\n",
      "mu         -8.4434e-03  3.300e-02     -0.256      0.798 [-7.312e-02,5.624e-02]\n",
      "                               Volatility Model                              \n",
      "=============================================================================\n",
      "                 coef    std err          t      P>|t|       95.0% Conf. Int.\n",
      "-----------------------------------------------------------------------------\n",
      "omega          0.0133  1.116e-02      1.192      0.233 [-8.576e-03,3.518e-02]\n",
      "alpha[1]       0.0293  1.106e-02      2.649  8.080e-03  [7.620e-03,5.099e-02]\n",
      "beta[1]        0.9666  1.342e-02     72.023      0.000      [  0.940,  0.993]\n",
      "=============================================================================\n",
      "\n",
      "Covariance estimator: robust \n",
      "\n",
      "LB Test Result: \n",
      "       lb_stat  lb_pvalue\n",
      "5    6.141864   0.292659\n",
      "10  10.423241   0.404178\n",
      "15  14.551030   0.484214\n",
      "20  19.981265   0.459102\n",
      "\n",
      "JB Test Result: \n",
      " SignificanceResult(statistic=961.5787676027719, pvalue=1.5697252975998146e-209)\n"
     ]
    }
   ],
   "source": [
    "#Ước lượng mô hình GARCH(1,1)\n",
    "am1 = arch_model(rp_pb, mean = 'Constant', vol='GARCH', p=1, o=0, q=1, dist=dist)\n",
    "garch1_1 = am1.fit(update_freq=5, disp = \"off\")\n",
    "print(\"GARCH(1,1) model:\", \"\\n\", garch1_1.summary(), \"\\n\")\n",
    "\n",
    "#Kiểm định phần dư của GARCH(1,1)\n",
    "garch_stdresid= garch1_1.resid/garch1_1.conditional_volatility\n",
    "garch11lb = acorr_ljungbox(garch_stdresid, lags=[5,10,15,20]) \n",
    "print('LB Test Result:','\\n',garch11lb)\n",
    "jb_arch = jarque_bera(garch_stdresid)\n",
    "print('\\nJB Test Result:','\\n',jb_arch)"
   ]
  },
  {
   "cell_type": "markdown",
   "metadata": {},
   "source": [
    "### 6. GJR-GARCH"
   ]
  },
  {
   "cell_type": "code",
   "execution_count": 951,
   "metadata": {},
   "outputs": [
    {
     "name": "stdout",
     "output_type": "stream",
     "text": [
      "TGARCH(1,1) model: \n",
      "                    Constant Mean - GJR-GARCH Model Results                    \n",
      "==============================================================================\n",
      "Dep. Variable:                      y   R-squared:                       0.000\n",
      "Mean Model:             Constant Mean   Adj. R-squared:                  0.000\n",
      "Vol Model:                  GJR-GARCH   Log-Likelihood:               -3900.09\n",
      "Distribution:                  Normal   AIC:                           7810.18\n",
      "Method:            Maximum Likelihood   BIC:                           7838.31\n",
      "                                        No. Observations:                 2050\n",
      "Date:                Fri, Jun 14 2024   Df Residuals:                     2049\n",
      "Time:                        13:44:33   Df Model:                            1\n",
      "                                  Mean Model                                 \n",
      "=============================================================================\n",
      "                 coef    std err          t      P>|t|       95.0% Conf. Int.\n",
      "-----------------------------------------------------------------------------\n",
      "mu         4.9698e-04  3.361e-02  1.479e-02      0.988 [-6.538e-02,6.637e-02]\n",
      "                               Volatility Model                              \n",
      "=============================================================================\n",
      "                 coef    std err          t      P>|t|       95.0% Conf. Int.\n",
      "-----------------------------------------------------------------------------\n",
      "omega          0.0169  1.516e-02      1.114      0.265 [-1.283e-02,4.661e-02]\n",
      "alpha[1]       0.0418  1.885e-02      2.219  2.648e-02  [4.885e-03,7.878e-02]\n",
      "gamma[1]      -0.0167  1.536e-02     -1.089      0.276 [-4.682e-02,1.337e-02]\n",
      "beta[1]        0.9618  1.724e-02     55.799      0.000      [  0.928,  0.996]\n",
      "=============================================================================\n",
      "\n",
      "Covariance estimator: robust \n",
      "\n",
      "LB Test Result: \n",
      "       lb_stat  lb_pvalue\n",
      "5    6.043628   0.301997\n",
      "10  10.378276   0.407956\n",
      "15  14.574439   0.482483\n",
      "20  20.124336   0.450176\n",
      "\n",
      "JB Test Result: \n",
      " SignificanceResult(statistic=1029.17156217323, pvalue=3.2978796908700384e-224)\n"
     ]
    }
   ],
   "source": [
    "#Ước lượng mô hình TGARCH(1,1)\n",
    "am2 = arch_model(rp_pb, mean = 'Constant', vol='GARCH', p=1, o=1, q=1, dist=dist)\n",
    "leverage_garch1_1 = am2.fit(update_freq=5, disp = \"off\")\n",
    "print(\"TGARCH(1,1) model:\", \"\\n\", leverage_garch1_1.summary(), \"\\n\")\n",
    "\n",
    "#Kiểm định phần dư của TGARCH(1,1)\n",
    "tgarch_stdresid= leverage_garch1_1.resid/leverage_garch1_1.conditional_volatility\n",
    "tgarch11lb = acorr_ljungbox(tgarch_stdresid, lags=[5,10,15,20]) \n",
    "print('LB Test Result:','\\n',tgarch11lb)\n",
    "jb_arch = jarque_bera(tgarch_stdresid)\n",
    "print('\\nJB Test Result:','\\n',jb_arch)"
   ]
  },
  {
   "cell_type": "markdown",
   "metadata": {},
   "source": [
    "### 7. EGARCH"
   ]
  },
  {
   "cell_type": "code",
   "execution_count": 952,
   "metadata": {},
   "outputs": [
    {
     "name": "stdout",
     "output_type": "stream",
     "text": [
      "EGARCH(1,1) model: \n",
      "                      Constant Mean - EGARCH Model Results                     \n",
      "==============================================================================\n",
      "Dep. Variable:                      y   R-squared:                       0.000\n",
      "Mean Model:             Constant Mean   Adj. R-squared:                  0.000\n",
      "Vol Model:                     EGARCH   Log-Likelihood:               -3900.49\n",
      "Distribution:                  Normal   AIC:                           7810.98\n",
      "Method:            Maximum Likelihood   BIC:                           7839.11\n",
      "                                        No. Observations:                 2050\n",
      "Date:                Fri, Jun 14 2024   Df Residuals:                     2049\n",
      "Time:                        13:44:33   Df Model:                            1\n",
      "                                  Mean Model                                 \n",
      "=============================================================================\n",
      "                 coef    std err          t      P>|t|       95.0% Conf. Int.\n",
      "-----------------------------------------------------------------------------\n",
      "mu            -0.0141  3.494e-02     -0.402      0.687 [-8.254e-02,5.443e-02]\n",
      "                               Volatility Model                              \n",
      "=============================================================================\n",
      "                 coef    std err          t      P>|t|       95.0% Conf. Int.\n",
      "-----------------------------------------------------------------------------\n",
      "omega          0.0147  8.009e-03      1.833  6.677e-02 [-1.015e-03,3.038e-02]\n",
      "alpha[1]       0.0953  3.229e-02      2.951  3.171e-03    [3.199e-02,  0.159]\n",
      "gamma[1]       0.0137  1.484e-02      0.925      0.355 [-1.536e-02,4.281e-02]\n",
      "beta[1]        0.9934  5.639e-03    176.178      0.000      [  0.982,  1.004]\n",
      "=============================================================================\n",
      "\n",
      "Covariance estimator: robust \n",
      "\n",
      "LB Test Result: \n",
      "       lb_stat  lb_pvalue\n",
      "5    6.099919   0.296617\n",
      "10  10.470331   0.400242\n",
      "15  14.247483   0.506848\n",
      "20  19.523916   0.488042\n",
      "\n",
      "JB Test Result: \n",
      " SignificanceResult(statistic=1064.7552663013394, pvalue=6.1848850720441086e-232)\n"
     ]
    }
   ],
   "source": [
    "#Ước lượng mô hình EGARCH(1,1)\n",
    "am3 = arch_model(rp_pb, mean = 'Constant', vol='EGARCH', p=1, o=1, q=1, dist=dist)\n",
    "exponetial_garch1_1 = am3.fit(update_freq=5, disp = \"off\")\n",
    "print(\"EGARCH(1,1) model:\", \"\\n\", exponetial_garch1_1.summary(), \"\\n\")\n",
    "\n",
    "#Kiểm định phần dư của TGARCH(1,1)\n",
    "egarch_stdresid= exponetial_garch1_1.resid/exponetial_garch1_1.conditional_volatility\n",
    "egarch11lb = acorr_ljungbox(egarch_stdresid, lags=[5,10,15,20]) \n",
    "print('LB Test Result:','\\n',egarch11lb)\n",
    "jb_arch = jarque_bera(egarch_stdresid)\n",
    "print('\\nJB Test Result:','\\n',jb_arch)"
   ]
  },
  {
   "cell_type": "markdown",
   "metadata": {},
   "source": [
    "### 8. Evaluate"
   ]
  },
  {
   "cell_type": "code",
   "execution_count": 953,
   "metadata": {},
   "outputs": [
    {
     "name": "stdout",
     "output_type": "stream",
     "text": [
      "ARCH(1):\n",
      "RMSE: 3.313\n",
      "MAE: 2.994\n",
      "MAPE: 3.054\n",
      "TIC:  4.960\n",
      "\n",
      "RMSE: 4.389\n",
      "MAE: 3.766\n",
      "MAPE: 4.171\n",
      "TIC:  6.184\n",
      "\n",
      "RMSE: 4.731\n",
      "MAE: 4.152\n",
      "MAPE: 4.527\n",
      "TIC:  6.671\n",
      "\n",
      "RMSE: 5.078\n",
      "MAE: 4.561\n",
      "MAPE: 4.903\n",
      "TIC:  7.185\n",
      "\n",
      "Best Forecasting Model (Lowest RMSE): ARCH(1)\n",
      "\n",
      "Best Forecasting Model (Lowest MAE): ARCH(1)\n",
      "\n",
      "Best Forecasting Model (Lowest MAPE): ARCH(1)\n",
      "\n",
      "Best Forecasting Model (Lowest TIC): ARCH(1)\n"
     ]
    }
   ],
   "source": [
    "#Tính các giá trị sai số của mô hình ARCH(1)\n",
    "res= am0.fit(last_obs=1987, update_freq=5, disp='off')\n",
    "forecasts = res.forecast(horizon=1)\n",
    "forecast_vals = forecasts.residual_variance.values[-10:]\n",
    "actual_vals = rp_pbk[-10:]\n",
    "\n",
    "rmse_arch1 = np.sqrt(mean_squared_error(actual_vals, forecast_vals))\n",
    "mae_arch1 = mean_absolute_error(actual_vals, forecast_vals)\n",
    "mape_arch1 = np.mean(np.abs(forecast_vals - actual_vals)/np.abs(actual_vals))\n",
    "\n",
    "tic_arch1 = tic(forecast_vals, actual_vals) \n",
    "\n",
    "print('ARCH(1):')\n",
    "print('RMSE: %0.3f' % rmse_arch1)\n",
    "print('MAE: %0.3f' % mae_arch1) \n",
    "print('MAPE: %0.3f' % mape_arch1)\n",
    "print('TIC: % 0.3f' % tic_arch1)\n",
    "\n",
    "#Tính các giá trị sai số của mô hình GARCH(1,1)\n",
    "res1= am1.fit(last_obs=1987, update_freq=5, disp='off')\n",
    "forecasts1 = res1.forecast(horizon=1)\n",
    "forecast_vals1 = forecasts1.residual_variance.values[-10:]\n",
    "\n",
    "rmse_garch11 = np.sqrt(mean_squared_error(actual_vals, forecast_vals1))\n",
    "mae_garch11 = mean_absolute_error(actual_vals, forecast_vals1)\n",
    "mape_garch11 = np.mean(np.abs(forecast_vals1 - actual_vals)/np.abs(actual_vals))\n",
    "\n",
    "tic_garch11 = tic(forecast_vals1, actual_vals) \n",
    "\n",
    "print('\\nRMSE: %0.3f' % rmse_garch11)\n",
    "print('MAE: %0.3f' % mae_garch11) \n",
    "print('MAPE: %0.3f' % mape_garch11)\n",
    "print('TIC: % 0.3f' % tic_garch11)\n",
    "\n",
    "#Tính các giá trị sai số của mô hình TGARCH(1,1)\n",
    "res2= am2.fit(last_obs=1987, update_freq=5, disp='off')\n",
    "forecasts2 = res2.forecast(horizon=1)\n",
    "forecast_vals2 = forecasts2.residual_variance.values[-10:]\n",
    "\n",
    "rmse_tgarch11 = np.sqrt(mean_squared_error(actual_vals, forecast_vals2))\n",
    "mae_tgarch11 = mean_absolute_error(actual_vals, forecast_vals2)\n",
    "mape_tgarch11 = np.mean(np.abs(forecast_vals2 - actual_vals)/np.abs(actual_vals))\n",
    "\n",
    "tic_tgarch11 = tic(forecast_vals2, actual_vals) \n",
    "\n",
    "print('\\nRMSE: %0.3f' % rmse_tgarch11)\n",
    "print('MAE: %0.3f' % mae_tgarch11) \n",
    "print('MAPE: %0.3f' % mape_tgarch11)\n",
    "print('TIC: % 0.3f' % tic_tgarch11)\n",
    "\n",
    "#Tính các giá trị sai số của mô hình EGARCH(1,1)\n",
    "res3= am3.fit(last_obs=1987, update_freq=5, disp='off')\n",
    "forecasts3 = res3.forecast(horizon=1)\n",
    "forecast_vals3 = forecasts3.residual_variance.values[-10:]\n",
    "\n",
    "rmse_egarch11 = np.sqrt(mean_squared_error(actual_vals, forecast_vals3))\n",
    "mae_egarch11 = mean_absolute_error(actual_vals, forecast_vals3)\n",
    "mape_egarch11 = np.mean(np.abs(forecast_vals3 - actual_vals)/np.abs(actual_vals))\n",
    "\n",
    "tic_egarch11 = tic(forecast_vals3, actual_vals) \n",
    "\n",
    "print('\\nRMSE: %0.3f' % rmse_egarch11)\n",
    "print('MAE: %0.3f' % mae_egarch11) \n",
    "print('MAPE: %0.3f' % mape_egarch11)\n",
    "print('TIC: % 0.3f' % tic_egarch11)\n",
    "\n",
    "RMSE_value=[rmse_arch1, rmse_garch11, rmse_tgarch11, rmse_egarch11]\n",
    "best_RMSEprediction= np.argmin(RMSE_value)\n",
    "print('\\nBest Forecasting Model (Lowest RMSE):', ['ARCH(1)', 'GARCH(1,1)', 'TGARCH(1_1)', 'EGARCH(1_1)'][best_RMSEprediction])\n",
    "\n",
    "MAE_value=[mae_arch1, mae_arch1, mae_tgarch11, mae_egarch11]\n",
    "best_MAEprediction= np.argmin(MAE_value)\n",
    "print('\\nBest Forecasting Model (Lowest MAE):', ['ARCH(1)', 'GARCH(1,1)', 'TGARCH(1_1)', 'EGARCH(1_1)'][best_MAEprediction])\n",
    "\n",
    "MAPE_value=[mape_arch1, mape_garch11, mape_tgarch11, mape_egarch11]\n",
    "best_MAPEprediction= np.argmin(MAPE_value)\n",
    "print('\\nBest Forecasting Model (Lowest MAPE):', ['ARCH(1)', 'GARCH(1,1)', 'TGARCH(1_1)', 'EGARCH(1_1)'][best_MAPEprediction])\n",
    "\n",
    "TIC_value=[tic_arch1, tic_garch11, tic_tgarch11, tic_egarch11]\n",
    "best_TICprediction= np.argmin(TIC_value)\n",
    "print('\\nBest Forecasting Model (Lowest TIC):', ['ARCH(1)', 'GARCH(1,1)', 'TGARCH(1_1)', 'EGARCH(1_1)'][best_TICprediction])"
   ]
  },
  {
   "cell_type": "code",
   "execution_count": null,
   "metadata": {},
   "outputs": [],
   "source": []
  }
 ],
 "metadata": {
  "kernelspec": {
   "display_name": "Python 3",
   "language": "python",
   "name": "python3"
  },
  "language_info": {
   "codemirror_mode": {
    "name": "ipython",
    "version": 3
   },
   "file_extension": ".py",
   "mimetype": "text/x-python",
   "name": "python",
   "nbconvert_exporter": "python",
   "pygments_lexer": "ipython3",
   "version": "3.10.9"
  }
 },
 "nbformat": 4,
 "nbformat_minor": 2
}
